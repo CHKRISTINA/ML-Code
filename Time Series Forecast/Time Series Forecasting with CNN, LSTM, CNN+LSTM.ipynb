{
 "cells": [
  {
   "cell_type": "markdown",
   "metadata": {},
   "source": [
    "## Time Series Forecasting with CNN, LSTM, CNN+LSTM\n",
    "\n",
    "data: kaggle corn2013-2017.txt"
   ]
  },
  {
   "cell_type": "code",
   "execution_count": 11,
   "metadata": {},
   "outputs": [],
   "source": [
    "import pandas as pd\n",
    "from pandas import Series\n",
    "\n",
    "import numpy as np\n",
    "\n",
    "%matplotlib inline\n",
    "import matplotlib.pyplot as plt\n",
    "\n",
    "from sklearn.preprocessing import MinMaxScaler\n",
    "from sklearn.metrics import r2_score\n",
    "\n",
    "from keras.models import Sequential\n",
    "from keras.layers import Dense\n",
    "from keras.callbacks import EarlyStopping\n",
    "from keras.optimizers import Adam\n",
    "from keras.layers import LSTM\n",
    "\n",
    "from keras.layers.convolutional import Conv1D\n",
    "from keras.layers.convolutional import MaxPooling1D\n",
    "from keras.layers import Reshape\n",
    "from keras.layers import Flatten\n",
    "from keras.layers import TimeDistributed\n"
   ]
  },
  {
   "cell_type": "code",
   "execution_count": 2,
   "metadata": {},
   "outputs": [
    {
     "data": {
      "text/html": [
       "<div>\n",
       "<style scoped>\n",
       "    .dataframe tbody tr th:only-of-type {\n",
       "        vertical-align: middle;\n",
       "    }\n",
       "\n",
       "    .dataframe tbody tr th {\n",
       "        vertical-align: top;\n",
       "    }\n",
       "\n",
       "    .dataframe thead th {\n",
       "        text-align: right;\n",
       "    }\n",
       "</style>\n",
       "<table border=\"1\" class=\"dataframe\">\n",
       "  <thead>\n",
       "    <tr style=\"text-align: right;\">\n",
       "      <th></th>\n",
       "      <th>Date</th>\n",
       "      <th>Corn price</th>\n",
       "    </tr>\n",
       "  </thead>\n",
       "  <tbody>\n",
       "    <tr>\n",
       "      <th>0</th>\n",
       "      <td>2013-01-06</td>\n",
       "      <td>7.794975</td>\n",
       "    </tr>\n",
       "    <tr>\n",
       "      <th>1</th>\n",
       "      <td>2013-01-13</td>\n",
       "      <td>7.863400</td>\n",
       "    </tr>\n",
       "    <tr>\n",
       "      <th>2</th>\n",
       "      <td>2013-01-20</td>\n",
       "      <td>8.234920</td>\n",
       "    </tr>\n",
       "    <tr>\n",
       "      <th>3</th>\n",
       "      <td>2013-01-27</td>\n",
       "      <td>8.186260</td>\n",
       "    </tr>\n",
       "    <tr>\n",
       "      <th>4</th>\n",
       "      <td>2013-02-03</td>\n",
       "      <td>8.317480</td>\n",
       "    </tr>\n",
       "  </tbody>\n",
       "</table>\n",
       "</div>"
      ],
      "text/plain": [
       "         Date  Corn price\n",
       "0  2013-01-06    7.794975\n",
       "1  2013-01-13    7.863400\n",
       "2  2013-01-20    8.234920\n",
       "3  2013-01-27    8.186260\n",
       "4  2013-02-03    8.317480"
      ]
     },
     "execution_count": 2,
     "metadata": {},
     "output_type": "execute_result"
    }
   ],
   "source": [
    "# Df from 14/04/2015 to 14/04/2019\n",
    "df = pd.read_csv(\"corn2013-2017.txt\", header = None)\n",
    "df.columns = ['Date', 'Corn price']\n",
    "df.head()"
   ]
  },
  {
   "cell_type": "code",
   "execution_count": 3,
   "metadata": {},
   "outputs": [
    {
     "data": {
      "text/html": [
       "<div>\n",
       "<style scoped>\n",
       "    .dataframe tbody tr th:only-of-type {\n",
       "        vertical-align: middle;\n",
       "    }\n",
       "\n",
       "    .dataframe tbody tr th {\n",
       "        vertical-align: top;\n",
       "    }\n",
       "\n",
       "    .dataframe thead th {\n",
       "        text-align: right;\n",
       "    }\n",
       "</style>\n",
       "<table border=\"1\" class=\"dataframe\">\n",
       "  <thead>\n",
       "    <tr style=\"text-align: right;\">\n",
       "      <th></th>\n",
       "      <th>Corn price</th>\n",
       "    </tr>\n",
       "    <tr>\n",
       "      <th>Date</th>\n",
       "      <th></th>\n",
       "    </tr>\n",
       "  </thead>\n",
       "  <tbody>\n",
       "    <tr>\n",
       "      <th>2013-01-06</th>\n",
       "      <td>7.794975</td>\n",
       "    </tr>\n",
       "    <tr>\n",
       "      <th>2013-01-13</th>\n",
       "      <td>7.863400</td>\n",
       "    </tr>\n",
       "    <tr>\n",
       "      <th>2013-01-20</th>\n",
       "      <td>8.234920</td>\n",
       "    </tr>\n",
       "    <tr>\n",
       "      <th>2013-01-27</th>\n",
       "      <td>8.186260</td>\n",
       "    </tr>\n",
       "    <tr>\n",
       "      <th>2013-02-03</th>\n",
       "      <td>8.317480</td>\n",
       "    </tr>\n",
       "    <tr>\n",
       "      <th>2013-02-10</th>\n",
       "      <td>8.154040</td>\n",
       "    </tr>\n",
       "    <tr>\n",
       "      <th>2013-02-17</th>\n",
       "      <td>7.883740</td>\n",
       "    </tr>\n",
       "    <tr>\n",
       "      <th>2013-02-24</th>\n",
       "      <td>7.859420</td>\n",
       "    </tr>\n",
       "    <tr>\n",
       "      <th>2013-03-03</th>\n",
       "      <td>7.958560</td>\n",
       "    </tr>\n",
       "    <tr>\n",
       "      <th>2013-03-10</th>\n",
       "      <td>7.976260</td>\n",
       "    </tr>\n",
       "  </tbody>\n",
       "</table>\n",
       "</div>"
      ],
      "text/plain": [
       "            Corn price\n",
       "Date                  \n",
       "2013-01-06    7.794975\n",
       "2013-01-13    7.863400\n",
       "2013-01-20    8.234920\n",
       "2013-01-27    8.186260\n",
       "2013-02-03    8.317480\n",
       "2013-02-10    8.154040\n",
       "2013-02-17    7.883740\n",
       "2013-02-24    7.859420\n",
       "2013-03-03    7.958560\n",
       "2013-03-10    7.976260"
      ]
     },
     "execution_count": 3,
     "metadata": {},
     "output_type": "execute_result"
    }
   ],
   "source": [
    "df['Date'] = pd.to_datetime(df['Date'])\n",
    "df = df.set_index(['Date'], drop=True)\n",
    "df.head(10)"
   ]
  },
  {
   "cell_type": "code",
   "execution_count": 4,
   "metadata": {},
   "outputs": [
    {
     "data": {
      "image/png": "[encoded data removed]",
      "text/plain": [
       "<Figure size 720x432 with 1 Axes>"
      ]
     },
     "metadata": {
      "needs_background": "light"
     },
     "output_type": "display_data"
    }
   ],
   "source": [
    "# Visualize Adj Close by date\n",
    "plt.figure(figsize=(10, 6))\n",
    "df['Corn price'].plot();"
   ]
  },
  {
   "cell_type": "code",
   "execution_count": 5,
   "metadata": {},
   "outputs": [
    {
     "data": {
      "image/png": "[encoded data removed]",
      "text/plain": [
       "<Figure size 720x432 with 1 Axes>"
      ]
     },
     "metadata": {
      "needs_background": "light"
     },
     "output_type": "display_data"
    }
   ],
   "source": [
    "# For the model split data fro trainig and testing that will be used to check the prediction\n",
    "split_date = pd.Timestamp('2016-08-01')\n",
    "df =  df['Corn price']\n",
    "train = df.loc[:split_date]\n",
    "test = df.loc[split_date:]\n",
    "plt.figure(figsize=(10, 6))\n",
    "ax = train.plot()\n",
    "test.plot(ax=ax)\n",
    "plt.legend(['train', 'test']);"
   ]
  },
  {
   "cell_type": "code",
   "execution_count": 6,
   "metadata": {},
   "outputs": [
    {
     "name": "stdout",
     "output_type": "stream",
     "text": [
      "Train type:  <class 'pandas.core.series.Series'>\n",
      "First element:  7.794975\n",
      "The lenght:  187\n",
      "Test type:  <class 'pandas.core.series.Series'>\n",
      "First element:  3.73564\n",
      "The lenght:  61\n"
     ]
    }
   ],
   "source": [
    "# Explore data\n",
    "print('Train type: ', type(train))\n",
    "print('First element: ', train[0])\n",
    "print('The lenght: ', len(train))\n",
    "\n",
    "print('Test type: ', type(test))\n",
    "print('First element: ', test[0])\n",
    "print('The lenght: ', len(test))"
   ]
  },
  {
   "cell_type": "code",
   "execution_count": 7,
   "metadata": {},
   "outputs": [
    {
     "name": "stdout",
     "output_type": "stream",
     "text": [
      "Min: 3.820160, Max: 8.317480\n"
     ]
    }
   ],
   "source": [
    "# Normilize train and test data\n",
    "\n",
    "train = train.values\n",
    "train = train.reshape((len(train), 1))\n",
    "\n",
    "test = test.values\n",
    "test = test.reshape((len(test), 1))\n",
    "\n",
    "scaler = MinMaxScaler(feature_range=(0, 1))\n",
    "scaler = scaler.fit(train)\n",
    "print('Min: %f, Max: %f' % (scaler.data_min_, scaler.data_max_))"
   ]
  },
  {
   "cell_type": "code",
   "execution_count": 8,
   "metadata": {},
   "outputs": [],
   "source": [
    "train_normalized = scaler.transform(train)\n",
    "test_normalized = scaler.transform(test)"
   ]
  },
  {
   "cell_type": "code",
   "execution_count": 9,
   "metadata": {},
   "outputs": [
    {
     "name": "stdout",
     "output_type": "stream",
     "text": [
      "Train normalized:  [[0.88381859]\n",
      " [0.8990332 ]\n",
      " [0.9816424 ]\n",
      " [0.97082262]\n",
      " [1.        ]]\n",
      "Test normalized:  [[-0.01879341]\n",
      " [-0.01978067]\n",
      " [-0.0019923 ]\n",
      " [-0.01580497]\n",
      " [-0.05089698]]\n"
     ]
    }
   ],
   "source": [
    "print('Train normalized: ', train_normalized[:5])\n",
    "print('Test normalized: ', test_normalized[:5])"
   ]
  },
  {
   "cell_type": "code",
   "execution_count": 10,
   "metadata": {},
   "outputs": [],
   "source": [
    "# Get train and test for the model\n",
    "X_train = train_normalized[:-1]\n",
    "y_train = train_normalized[1:]\n",
    "\n",
    "X_test = test_normalized[:-1]\n",
    "y_test = test_normalized[1:]"
   ]
  },
  {
   "cell_type": "code",
   "execution_count": 40,
   "metadata": {},
   "outputs": [],
   "source": [
    "# reate new X_train/test and y_train/test vectors\n",
    "def convert_to_Xy_1d(data, feature_idx, n_input=7, n_output=1):\n",
    "    X, y = [],[]\n",
    "    in_start = 0\n",
    "    for i in range(len(data)):\n",
    "        in_end = in_start + n_input\n",
    "        out_end = in_end + n_output\n",
    "        if out_end < len(data):\n",
    "            x_input = data[in_start:in_end, feature_idx]\n",
    "            x_input = x_input.reshape((len(x_input), 1)) # column vector\n",
    "            X.append(x_input)\n",
    "            y.append(data[in_end:out_end, feature_idx])\n",
    "        # step forward one unit\n",
    "        in_start += 1\n",
    "    return np.array(X), np.array(y)"
   ]
  },
  {
   "cell_type": "code",
   "execution_count": 41,
   "metadata": {},
   "outputs": [],
   "source": [
    "trainX, trainy = convert_to_Xy_1d(X_train, 0)"
   ]
  },
  {
   "cell_type": "code",
   "execution_count": 42,
   "metadata": {},
   "outputs": [
    {
     "name": "stdout",
     "output_type": "stream",
     "text": [
      "(7, 1)\n",
      "[[0.8990332 ]\n",
      " [0.9816424 ]\n",
      " [0.97082262]\n",
      " [1.        ]\n",
      " [0.96365836]\n",
      " [0.9035559 ]\n",
      " [0.89814823]]\n"
     ]
    }
   ],
   "source": [
    "print(trainX[1].shape)\n",
    "print(trainX[1])"
   ]
  },
  {
   "cell_type": "code",
   "execution_count": 43,
   "metadata": {},
   "outputs": [
    {
     "name": "stdout",
     "output_type": "stream",
     "text": [
      "(1,)\n",
      "[0.92019247]\n"
     ]
    }
   ],
   "source": [
    "print(trainy[1].shape)\n",
    "print(trainy[1])"
   ]
  },
  {
   "cell_type": "code",
   "execution_count": 44,
   "metadata": {},
   "outputs": [
    {
     "name": "stdout",
     "output_type": "stream",
     "text": [
      "7 1 1\n"
     ]
    }
   ],
   "source": [
    "n_timesteps, n_features, n_outputs = trainX.shape[1], trainX.shape[2], trainy.shape[1]\n",
    "print(n_timesteps, n_features, n_outputs)"
   ]
  },
  {
   "cell_type": "markdown",
   "metadata": {},
   "source": [
    "# CNN model"
   ]
  },
  {
   "cell_type": "code",
   "execution_count": 45,
   "metadata": {},
   "outputs": [
    {
     "name": "stdout",
     "output_type": "stream",
     "text": [
      "Epoch 1/100\n",
      "178/178 [==============================] - 2s 9ms/step - loss: 0.1864\n",
      "Epoch 2/100\n",
      "178/178 [==============================] - 0s 2ms/step - loss: 0.1864\n",
      "Epoch 3/100\n",
      "178/178 [==============================] - 0s 852us/step - loss: 0.1864\n",
      "Epoch 4/100\n",
      "178/178 [==============================] - 0s 844us/step - loss: 0.1864\n",
      "Epoch 00004: early stopping\n"
     ]
    }
   ],
   "source": [
    "# Create model\n",
    "cnn_model = Sequential()\n",
    "cnn_model.add(Conv1D(filters=12, kernel_size=2, activation='relu', input_shape=(n_timesteps,n_features))) #same as trainX[0].shape \n",
    "cnn_model.add(MaxPooling1D(pool_size=2))\n",
    "cnn_model.add(Flatten())\n",
    "cnn_model.add(Dense(n_outputs, activation='softmax'))\n",
    "cnn_model.compile(loss='mean_squared_logarithmic_error', optimizer='adam')\n",
    "early_stop = EarlyStopping(monitor='loss', patience=3, verbose=1)\n",
    "history = cnn_model.fit(trainX, trainy, epochs=100, batch_size=4, verbose=1, callbacks=[early_stop], shuffle=False)"
   ]
  },
  {
   "cell_type": "code",
   "execution_count": 46,
   "metadata": {},
   "outputs": [],
   "source": [
    "testX, testy = convert_to_Xy_1d(X_test, 0)"
   ]
  },
  {
   "cell_type": "code",
   "execution_count": 47,
   "metadata": {},
   "outputs": [
    {
     "name": "stdout",
     "output_type": "stream",
     "text": [
      "The R2 score on the Train set is:\t-6.305\n",
      "The R2 score on the Test set is:\t-1291.139\n"
     ]
    }
   ],
   "source": [
    "y_pred_test_nn = cnn_model.predict(testX)\n",
    "y_train_pred_nn = cnn_model.predict(trainX)\n",
    "print(\"The R2 score on the Train set is:\\t{:0.3f}\".format(r2_score(trainy, y_train_pred_nn)))\n",
    "print(\"The R2 score on the Test set is:\\t{:0.3f}\".format(r2_score(testy, y_pred_test_nn)))"
   ]
  },
  {
   "cell_type": "code",
   "execution_count": 48,
   "metadata": {},
   "outputs": [],
   "source": [
    "def convert_to_1darray(y):\n",
    "    y_pred = []\n",
    "    y_pred.extend(y[0])\n",
    "    for i in range(1,len(y)):\n",
    "        y_pred.append(y[i][0])\n",
    "    \n",
    "    return y_pred"
   ]
  },
  {
   "cell_type": "code",
   "execution_count": 49,
   "metadata": {},
   "outputs": [],
   "source": [
    "y_pred_cnn = convert_to_1darray(y_pred_test_nn)"
   ]
  },
  {
   "cell_type": "code",
   "execution_count": 50,
   "metadata": {},
   "outputs": [
    {
     "data": {
      "image/png": "[encoded data removed]",
      "text/plain": [
       "<Figure size 720x432 with 1 Axes>"
      ]
     },
     "metadata": {
      "needs_background": "light"
     },
     "output_type": "display_data"
    }
   ],
   "source": [
    "plt.figure(figsize=(10, 6))\n",
    "plt.plot(y_test, label='True')\n",
    "plt.plot(y_pred_cnn, label='CNN')\n",
    "plt.title(\"NN's Prediction\")\n",
    "plt.xlabel('Observation')\n",
    "plt.ylabel('Corn price')\n",
    "plt.legend()\n",
    "plt.show();"
   ]
  },
  {
   "cell_type": "code",
   "execution_count": null,
   "metadata": {},
   "outputs": [],
   "source": []
  }
 ],
 "metadata": {
  "kernelspec": {
   "display_name": "Python 3",
   "language": "python",
   "name": "python3"
  },
  "language_info": {
   "codemirror_mode": {
    "name": "ipython",
    "version": 3
   },
   "file_extension": ".py",
   "mimetype": "text/x-python",
   "name": "python",
   "nbconvert_exporter": "python",
   "pygments_lexer": "ipython3",
   "version": "3.5.5"
  }
 },
 "nbformat": 4,
 "nbformat_minor": 2
}

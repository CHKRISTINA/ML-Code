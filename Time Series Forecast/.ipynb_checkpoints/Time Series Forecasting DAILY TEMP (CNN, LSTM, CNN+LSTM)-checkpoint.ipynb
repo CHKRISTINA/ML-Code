{
 "cells": [
  {
   "cell_type": "markdown",
   "metadata": {},
   "source": [
    "## Time Series Forecasting with CNN, LSTM, CNN+LSTM\n",
    "\n",
    "data: another db"
   ]
  },
  {
   "cell_type": "code",
   "execution_count": 1,
   "metadata": {},
   "outputs": [
    {
     "name": "stderr",
     "output_type": "stream",
     "text": [
      "Using TensorFlow backend.\n"
     ]
    }
   ],
   "source": [
    "import pandas as pd\n",
    "from pandas import Series\n",
    "\n",
    "import numpy as np\n",
    "\n",
    "%matplotlib inline\n",
    "import matplotlib.pyplot as plt\n",
    "\n",
    "from sklearn.preprocessing import MinMaxScaler\n",
    "from sklearn.metrics import r2_score\n",
    "\n",
    "from keras.models import Sequential\n",
    "from keras.layers import Dense, Dropout\n",
    "from keras.callbacks import EarlyStopping\n",
    "from keras.optimizers import Adam\n",
    "from keras.layers import LSTM\n",
    "from keras.layers import GlobalAveragePooling1D\n",
    "\n",
    "from keras.layers.convolutional import Conv1D\n",
    "from keras.layers.convolutional import MaxPooling1D\n",
    "from keras.layers import Reshape\n",
    "from keras.layers import Flatten\n",
    "from keras.layers import TimeDistributed\n"
   ]
  },
  {
   "cell_type": "code",
   "execution_count": 2,
   "metadata": {},
   "outputs": [
    {
     "data": {
      "text/html": [
       "<div>\n",
       "<style scoped>\n",
       "    .dataframe tbody tr th:only-of-type {\n",
       "        vertical-align: middle;\n",
       "    }\n",
       "\n",
       "    .dataframe tbody tr th {\n",
       "        vertical-align: top;\n",
       "    }\n",
       "\n",
       "    .dataframe thead th {\n",
       "        text-align: right;\n",
       "    }\n",
       "</style>\n",
       "<table border=\"1\" class=\"dataframe\">\n",
       "  <thead>\n",
       "    <tr style=\"text-align: right;\">\n",
       "      <th></th>\n",
       "      <th>Date</th>\n",
       "      <th>Open</th>\n",
       "      <th>High</th>\n",
       "      <th>Low</th>\n",
       "      <th>Close</th>\n",
       "      <th>Volume</th>\n",
       "      <th>Name</th>\n",
       "    </tr>\n",
       "  </thead>\n",
       "  <tbody>\n",
       "    <tr>\n",
       "      <th>0</th>\n",
       "      <td>2006-01-03</td>\n",
       "      <td>39.69</td>\n",
       "      <td>41.22</td>\n",
       "      <td>38.79</td>\n",
       "      <td>40.91</td>\n",
       "      <td>24232729</td>\n",
       "      <td>AABA</td>\n",
       "    </tr>\n",
       "    <tr>\n",
       "      <th>1</th>\n",
       "      <td>2006-01-04</td>\n",
       "      <td>41.22</td>\n",
       "      <td>41.90</td>\n",
       "      <td>40.77</td>\n",
       "      <td>40.97</td>\n",
       "      <td>20553479</td>\n",
       "      <td>AABA</td>\n",
       "    </tr>\n",
       "    <tr>\n",
       "      <th>2</th>\n",
       "      <td>2006-01-05</td>\n",
       "      <td>40.93</td>\n",
       "      <td>41.73</td>\n",
       "      <td>40.85</td>\n",
       "      <td>41.53</td>\n",
       "      <td>12829610</td>\n",
       "      <td>AABA</td>\n",
       "    </tr>\n",
       "    <tr>\n",
       "      <th>3</th>\n",
       "      <td>2006-01-06</td>\n",
       "      <td>42.88</td>\n",
       "      <td>43.57</td>\n",
       "      <td>42.80</td>\n",
       "      <td>43.21</td>\n",
       "      <td>29422828</td>\n",
       "      <td>AABA</td>\n",
       "    </tr>\n",
       "    <tr>\n",
       "      <th>4</th>\n",
       "      <td>2006-01-09</td>\n",
       "      <td>43.10</td>\n",
       "      <td>43.66</td>\n",
       "      <td>42.82</td>\n",
       "      <td>43.42</td>\n",
       "      <td>16268338</td>\n",
       "      <td>AABA</td>\n",
       "    </tr>\n",
       "  </tbody>\n",
       "</table>\n",
       "</div>"
      ],
      "text/plain": [
       "         Date   Open   High    Low  Close    Volume  Name\n",
       "0  2006-01-03  39.69  41.22  38.79  40.91  24232729  AABA\n",
       "1  2006-01-04  41.22  41.90  40.77  40.97  20553479  AABA\n",
       "2  2006-01-05  40.93  41.73  40.85  41.53  12829610  AABA\n",
       "3  2006-01-06  42.88  43.57  42.80  43.21  29422828  AABA\n",
       "4  2006-01-09  43.10  43.66  42.82  43.42  16268338  AABA"
      ]
     },
     "execution_count": 2,
     "metadata": {},
     "output_type": "execute_result"
    }
   ],
   "source": [
    "df = pd.read_csv(\"stock_market.csv\")\n",
    "df.head()"
   ]
  },
  {
   "cell_type": "code",
   "execution_count": 3,
   "metadata": {},
   "outputs": [],
   "source": [
    "df = df[['Date', 'High']]\n",
    "df = df.set_index(['Date'])\n",
    "df = df.sort_index(axis=0, level=None, ascending=True)"
   ]
  },
  {
   "cell_type": "code",
   "execution_count": 4,
   "metadata": {},
   "outputs": [
    {
     "data": {
      "text/html": [
       "<div>\n",
       "<style scoped>\n",
       "    .dataframe tbody tr th:only-of-type {\n",
       "        vertical-align: middle;\n",
       "    }\n",
       "\n",
       "    .dataframe tbody tr th {\n",
       "        vertical-align: top;\n",
       "    }\n",
       "\n",
       "    .dataframe thead th {\n",
       "        text-align: right;\n",
       "    }\n",
       "</style>\n",
       "<table border=\"1\" class=\"dataframe\">\n",
       "  <thead>\n",
       "    <tr style=\"text-align: right;\">\n",
       "      <th></th>\n",
       "      <th>High</th>\n",
       "    </tr>\n",
       "    <tr>\n",
       "      <th>Date</th>\n",
       "      <th></th>\n",
       "    </tr>\n",
       "  </thead>\n",
       "  <tbody>\n",
       "    <tr>\n",
       "      <th>2006-01-03</th>\n",
       "      <td>41.22</td>\n",
       "    </tr>\n",
       "    <tr>\n",
       "      <th>2006-01-04</th>\n",
       "      <td>41.90</td>\n",
       "    </tr>\n",
       "    <tr>\n",
       "      <th>2006-01-05</th>\n",
       "      <td>41.73</td>\n",
       "    </tr>\n",
       "    <tr>\n",
       "      <th>2006-01-06</th>\n",
       "      <td>43.57</td>\n",
       "    </tr>\n",
       "    <tr>\n",
       "      <th>2006-01-09</th>\n",
       "      <td>43.66</td>\n",
       "    </tr>\n",
       "  </tbody>\n",
       "</table>\n",
       "</div>"
      ],
      "text/plain": [
       "             High\n",
       "Date             \n",
       "2006-01-03  41.22\n",
       "2006-01-04  41.90\n",
       "2006-01-05  41.73\n",
       "2006-01-06  43.57\n",
       "2006-01-09  43.66"
      ]
     },
     "execution_count": 4,
     "metadata": {},
     "output_type": "execute_result"
    }
   ],
   "source": [
    "df.head()"
   ]
  },
  {
   "cell_type": "code",
   "execution_count": 5,
   "metadata": {},
   "outputs": [
    {
     "data": {
      "image/png": "[encoded data removed]",
      "text/plain": [
       "<Figure size 720x432 with 1 Axes>"
      ]
     },
     "metadata": {
      "needs_background": "light"
     },
     "output_type": "display_data"
    }
   ],
   "source": [
    "# Converting the index as date\n",
    "df.index = pd.to_datetime(df.index)\n",
    "\n",
    "# Visualize\n",
    "plt.figure(figsize=(10, 6))\n",
    "df['High'].plot();"
   ]
  },
  {
   "cell_type": "code",
   "execution_count": 6,
   "metadata": {},
   "outputs": [
    {
     "data": {
      "text/plain": [
       "<matplotlib.legend.Legend at 0x1a266c8668>"
      ]
     },
     "execution_count": 6,
     "metadata": {},
     "output_type": "execute_result"
    },
    {
     "data": {
      "image/png": "[encoded data removed]",
      "text/plain": [
       "<Figure size 720x432 with 1 Axes>"
      ]
     },
     "metadata": {
      "needs_background": "light"
     },
     "output_type": "display_data"
    }
   ],
   "source": [
    "# For the model split data fro trainig and testing that will be used to check the prediction\n",
    "split_date = pd.Timestamp('2016-01-01')\n",
    "df =  df['High']\n",
    "train = df.loc[:split_date]\n",
    "test = df.loc[split_date:]\n",
    "plt.figure(figsize=(10, 6))\n",
    "ax = train.plot()\n",
    "test.plot(ax=ax)\n",
    "plt.legend(['train', 'test'])"
   ]
  },
  {
   "cell_type": "code",
   "execution_count": 7,
   "metadata": {},
   "outputs": [
    {
     "data": {
      "text/plain": [
       "503"
      ]
     },
     "execution_count": 7,
     "metadata": {},
     "output_type": "execute_result"
    }
   ],
   "source": [
    "len(df) # 3019 \n",
    "df.head() # starts from 2006-01-03\n",
    "df.tail() # finish at 2017-12-29\n",
    "len(train) # 2768\n",
    "len(test) # 251"
   ]
  },
  {
   "cell_type": "markdown",
   "metadata": {},
   "source": [
    "# CNN model\n",
    "\n",
    "### Data normalization"
   ]
  },
  {
   "cell_type": "code",
   "execution_count": 24,
   "metadata": {},
   "outputs": [],
   "source": [
    "# Prepare data for the model\n",
    "train_values = train.values\n",
    "test_values = test.values\n",
    "\n",
    "train_values = train_values.reshape(-1, 1)\n",
    "test_values = test_values.reshape(-1, 1)\n",
    "\n",
    "scaler = MinMaxScaler(feature_range=(0, 1))\n",
    "train_nor = scaler.fit_transform(train_values)\n",
    "test_nor = scaler.fit_transform(test_values)"
   ]
  },
  {
   "cell_type": "code",
   "execution_count": 25,
   "metadata": {
    "scrolled": true
   },
   "outputs": [
    {
     "data": {
      "text/plain": [
       "(array([[0.73574409],\n",
       "        [0.75150672],\n",
       "        [0.74756606]]), array([[0.11624892],\n",
       "        [0.11560069],\n",
       "        [0.11862576]]))"
      ]
     },
     "execution_count": 25,
     "metadata": {},
     "output_type": "execute_result"
    }
   ],
   "source": [
    "train_nor[0:3], test_nor[0:3]"
   ]
  },
  {
   "cell_type": "markdown",
   "metadata": {},
   "source": [
    "### Create data sequences to pass to the models\n",
    "\n",
    "In this example we create 6-values sequences to predict the following value"
   ]
  },
  {
   "cell_type": "code",
   "execution_count": 26,
   "metadata": {},
   "outputs": [],
   "source": [
    "FORWARD_STEPS = 10 # the number of values used for 1 prediction\n",
    "\n",
    "def convert_to_Xy_1d(data, feature_idx, n_input=FORWARD_STEPS, n_output=1):\n",
    "    X, y = [],[]\n",
    "    in_start = 0\n",
    "    for i in range(len(data)):\n",
    "        in_end = in_start + n_input\n",
    "        out_end = in_end + n_output\n",
    "        if out_end < len(data):\n",
    "            x_input = data[in_start:in_end, feature_idx]\n",
    "            x_input = x_input.reshape((len(x_input), 1)) # column vector\n",
    "            X.append(x_input)\n",
    "            y.append(data[in_end:out_end, feature_idx])\n",
    "        # step forward one unit\n",
    "        in_start += 1\n",
    "    return np.array(X), np.array(y)"
   ]
  },
  {
   "cell_type": "code",
   "execution_count": 32,
   "metadata": {},
   "outputs": [
    {
     "name": "stdout",
     "output_type": "stream",
     "text": [
      "train input:  [[0.73574409]\n",
      " [0.75150672]\n",
      " [0.74756606]\n",
      " [0.7902179 ]\n",
      " [0.79230413]\n",
      " [0.78488642]\n",
      " [0.76101066]\n",
      " [0.75359295]\n",
      " [0.73249884]\n",
      " [0.7165044 ]]\n",
      "train output:  [0.61845155]\n",
      "[[0.11624892]\n",
      " [0.11560069]\n",
      " [0.11862576]\n",
      " [0.0911841 ]\n",
      " [0.09874676]\n",
      " [0.08167675]\n",
      " [0.08643042]\n",
      " [0.09075194]\n",
      " [0.07778738]\n",
      " [0.0605013 ]] [0.06547105]\n"
     ]
    }
   ],
   "source": [
    "# WITH NORMALIZATION\n",
    "\n",
    "# create train examples\n",
    "trainX, trainy = convert_to_Xy_1d(train_nor, 0)\n",
    "print('train input: ', trainX[0])\n",
    "print('train output: ', trainy[0])\n",
    "\n",
    "# the same formal should be for the train examples\n",
    "testX, testy = convert_to_Xy_1d(test_nor, 0)\n",
    "print(testX[0], testy[0])"
   ]
  },
  {
   "cell_type": "code",
   "execution_count": 9,
   "metadata": {},
   "outputs": [
    {
     "name": "stdout",
     "output_type": "stream",
     "text": [
      "train input:  [[41.22]\n",
      " [41.9 ]\n",
      " [41.73]\n",
      " [43.57]\n",
      " [43.66]\n",
      " [43.34]\n",
      " [42.31]\n",
      " [41.99]\n",
      " [41.08]\n",
      " [40.39]]\n",
      "train output:  [36.16]\n",
      "train input:  [[32.35]\n",
      " [32.32]\n",
      " [32.46]\n",
      " [31.19]\n",
      " [31.54]\n",
      " [30.75]\n",
      " [30.97]\n",
      " [31.17]\n",
      " [30.57]\n",
      " [29.77]]\n",
      "train output:  [30.]\n"
     ]
    }
   ],
   "source": [
    "# WITHOUT NORMALIZATION\n",
    "\n",
    "train_values = train.values\n",
    "test_values = test.values\n",
    "\n",
    "train_values = train_values.reshape(-1, 1)\n",
    "test_values = test_values.reshape(-1, 1)\n",
    "\n",
    "trainX, trainy = convert_to_Xy_1d(train_values, 0)\n",
    "print('train input: ', trainX[0])\n",
    "print('train output: ', trainy[0])\n",
    "\n",
    "testX, testy = convert_to_Xy_1d(test_values, 0)\n",
    "print('train input: ', testX[0])\n",
    "print('train output: ', testy[0])"
   ]
  },
  {
   "cell_type": "markdown",
   "metadata": {},
   "source": [
    "### Find parameters and reshape examples for CNN model"
   ]
  },
  {
   "cell_type": "code",
   "execution_count": 11,
   "metadata": {},
   "outputs": [],
   "source": [
    "trainX_for_cnn = trainX\n",
    "testX_for_cnn = testX"
   ]
  },
  {
   "cell_type": "code",
   "execution_count": 15,
   "metadata": {},
   "outputs": [
    {
     "name": "stdout",
     "output_type": "stream",
     "text": [
      "10 1 1\n"
     ]
    }
   ],
   "source": [
    "n_timesteps, n_features, n_outputs = trainX_for_cnn.shape[1], trainX_for_cnn.shape[2], trainy.shape[1]\n",
    "print(n_timesteps, n_features, n_outputs)"
   ]
  },
  {
   "cell_type": "code",
   "execution_count": 16,
   "metadata": {},
   "outputs": [
    {
     "name": "stdout",
     "output_type": "stream",
     "text": [
      "(2505, 10, 1) (2505, 1)\n",
      "(10, 1) (1,)\n"
     ]
    }
   ],
   "source": [
    "print(trainX_for_cnn.shape, trainy.shape)\n",
    "print(trainX_for_cnn[0].shape, trainy[0].shape)"
   ]
  },
  {
   "cell_type": "code",
   "execution_count": null,
   "metadata": {},
   "outputs": [],
   "source": [
    "# Create model\n",
    "cnn_model = Sequential()\n",
    "\n",
    "cnn_model.add(Conv1D(filters=64, kernel_size=2, activation='relu', input_shape=(n_timesteps, n_features))) #same as trainX[0].shape \n",
    "cnn_model.add(MaxPooling1D(pool_size=2))\n",
    "\n",
    "cnn_model.add(Conv1D(filters=32, kernel_size=2, activation='relu'))\n",
    "cnn_model.add(GlobalAveragePooling1D())\n",
    "\n",
    "cnn_model.add(Dense(50, activation='relu'))\n",
    "cnn_model.add(Dense(n_outputs))\n",
    "cnn_model.compile(loss='mean_squared_error', optimizer='adam', metrics=['accuracy'])\n",
    "\n",
    "early_stop = EarlyStopping(monitor='loss', patience=3, verbose=1)\n",
    "history = cnn_model.fit(trainX_for_cnn, trainy, epochs=100, batch_size=1, verbose=2, callbacks=[early_stop], shuffle=False)"
   ]
  },
  {
   "cell_type": "code",
   "execution_count": null,
   "metadata": {},
   "outputs": [],
   "source": [
    "def convert_to_1darray(y):\n",
    "    y_pred = []\n",
    "    y_pred.extend(y[0])\n",
    "    for i in range(1,len(y)):\n",
    "        y_pred.append(y[i][0])\n",
    "    \n",
    "    return y_pred"
   ]
  },
  {
   "cell_type": "code",
   "execution_count": null,
   "metadata": {},
   "outputs": [],
   "source": [
    "# calculate prediction\n",
    "y_pred_test_cnn = cnn_model.predict(testX)\n",
    "y_train_pred_cnn = cnn_model.predict(trainX)"
   ]
  },
  {
   "cell_type": "code",
   "execution_count": null,
   "metadata": {},
   "outputs": [],
   "source": [
    "y_pred_cnn = convert_to_1darray(y_pred_test_cnn)"
   ]
  },
  {
   "cell_type": "code",
   "execution_count": null,
   "metadata": {},
   "outputs": [],
   "source": [
    "# All train period\n",
    "plt.figure(figsize=(10, 6))\n",
    "plt.plot(testy, label='True')\n",
    "plt.plot(y_pred_cnn, label='CNN')\n",
    "plt.title(\"CNN's Prediction\")\n",
    "plt.xlabel('Observation')\n",
    "plt.ylabel('Temperature')\n",
    "plt.legend()\n",
    "plt.show();"
   ]
  },
  {
   "cell_type": "code",
   "execution_count": null,
   "metadata": {},
   "outputs": [],
   "source": [
    "# When 𝑅2 equals 1 it means that the model is able to fully recreate dependent variable,\n",
    "#when it equals 0, it means that the model completely failed at this task.\n",
    "print(\"The R2 score on the Train set is:\\t{:0.3f}\".format(r2_score(trainy, y_train_pred_cnn)))\n",
    "print(\"The R2 score on the Test set is:\\t{:0.3f}\".format(r2_score(testy, y_pred_test_cnn)))"
   ]
  },
  {
   "cell_type": "markdown",
   "metadata": {},
   "source": [
    "# LSTM model\n",
    "\n",
    "We will use the same data after normalization and creating sequences of examples: trainX, trainy, testX, testy "
   ]
  },
  {
   "cell_type": "code",
   "execution_count": null,
   "metadata": {},
   "outputs": [],
   "source": [
    "# Prepare data for the model\n",
    "train_values = train.values\n",
    "test_values = test.values\n",
    "\n",
    "train_values = train_values.reshape(-1, 1)\n",
    "test_values = test_values.reshape(-1, 1)\n",
    "\n",
    "scaler = MinMaxScaler(feature_range=(0, 1))\n",
    "train_nor = scaler.fit_transform(train_values)\n",
    "test_nor = scaler.fit_transform(test_values)"
   ]
  },
  {
   "cell_type": "code",
   "execution_count": null,
   "metadata": {},
   "outputs": [],
   "source": [
    "trainX, trainy = convert_to_Xy_1d(train_nor, 0)\n",
    "print('train input: ', trainX[0])\n",
    "print('train output: ', trainy[0])\n",
    "\n",
    "testX, testy = convert_to_Xy_1d(test_nor, 0)\n",
    "print(testX[0], testy[0])"
   ]
  },
  {
   "cell_type": "code",
   "execution_count": null,
   "metadata": {},
   "outputs": [],
   "source": [
    "# reshape input to be [samples, time steps, features]\n",
    "trainX_for_lstm = np.reshape(trainX, (trainX.shape[0], 1, trainX.shape[1]))\n",
    "testX_for_lstm = np.reshape(testX, (testX.shape[0], 1, testX.shape[1]))"
   ]
  },
  {
   "cell_type": "code",
   "execution_count": null,
   "metadata": {},
   "outputs": [],
   "source": [
    "print(trainX_for_lstm.shape)\n",
    "print(testX_for_lstm.shape)"
   ]
  },
  {
   "cell_type": "code",
   "execution_count": null,
   "metadata": {},
   "outputs": [],
   "source": [
    "# create and fit the LSTM network\n",
    "# input shape = (1, forward_steps)\n",
    "# a layer with 4 LSTM blocks \n",
    "lstm_model = Sequential()\n",
    "lstm_model.add(LSTM(4, input_shape=(1, FORWARD_STEPS)))\n",
    "lstm_model.add(Dense(50, activation='relu'))\n",
    "lstm_model.add(Dense(n_outputs))\n",
    "\n",
    "lstm_model.compile(loss='mean_squared_error', optimizer='adam', metrics=['accuracy'])\n",
    "\n",
    "early_stop = EarlyStopping(monitor='loss', patience=3, verbose=1)\n",
    "history = lstm_model.fit(trainX_for_lstm, trainy, epochs=100, batch_size=1, verbose=1, callbacks=[early_stop], shuffle=False)"
   ]
  },
  {
   "cell_type": "code",
   "execution_count": null,
   "metadata": {},
   "outputs": [],
   "source": [
    "y_pred_test_lstm = lstm_model.predict(testX_for_lstm)\n",
    "y_train_pred_lstm = lstm_model.predict(trainX_for_lstm)"
   ]
  },
  {
   "cell_type": "code",
   "execution_count": null,
   "metadata": {},
   "outputs": [],
   "source": [
    "plt.figure(figsize=(10, 6))\n",
    "plt.plot(testy, label='True')\n",
    "plt.plot(y_pred_test_lstm, label='LSTM')\n",
    "plt.title(\"LSTM Neural Network Prediction\")\n",
    "plt.xlabel('Observation')\n",
    "plt.ylabel('Corn price')\n",
    "plt.legend()\n",
    "plt.show();"
   ]
  },
  {
   "cell_type": "code",
   "execution_count": null,
   "metadata": {},
   "outputs": [],
   "source": [
    "print(\"The R2 score on the Train set is:\\t{:0.3f}\".format(r2_score(trainy, y_train_pred_lstm)))\n",
    "print(\"The R2 score on the Test set is:\\t{:0.3f}\".format(r2_score(testy, y_pred_test_lstm)))"
   ]
  },
  {
   "cell_type": "markdown",
   "metadata": {},
   "source": [
    "# CNN Long Short-Term Memory Networks\n",
    "\n",
    "The CNN LSTM architecture involves using Convolutional Neural Network (CNN) layers for feature extraction on input data combined with LSTMs to support sequence prediction."
   ]
  },
  {
   "cell_type": "code",
   "execution_count": 33,
   "metadata": {},
   "outputs": [],
   "source": [
    "# reshape from [samples, timesteps] into [samples, subsequences, timesteps, features]\n",
    "n_features = 1\n",
    "n_seq = 1\n",
    "n_steps = FORWARD_STEPS\n",
    "trainX_for_cnn_lstm = trainX.reshape((trainX.shape[0], n_seq, n_steps, n_features))\n",
    "testX_for_cnn_lstm = testX.reshape((testX.shape[0], n_seq, n_steps, n_features))\n"
   ]
  },
  {
   "cell_type": "code",
   "execution_count": 34,
   "metadata": {},
   "outputs": [
    {
     "name": "stdout",
     "output_type": "stream",
     "text": [
      "Train\n",
      "(1, 10, 1)\n",
      "[[[0.73574409]\n",
      "  [0.75150672]\n",
      "  [0.74756606]\n",
      "  [0.7902179 ]\n",
      "  [0.79230413]\n",
      "  [0.78488642]\n",
      "  [0.76101066]\n",
      "  [0.75359295]\n",
      "  [0.73249884]\n",
      "  [0.7165044 ]]]\n",
      "Test\n",
      "(1,)\n",
      "[0.61845155]\n"
     ]
    }
   ],
   "source": [
    "print('Train')\n",
    "print(trainX_for_cnn_lstm[0].shape)\n",
    "print(trainX_for_cnn_lstm[0])\n",
    "\n",
    "print('Test')\n",
    "print(trainy[0].shape)\n",
    "print(trainy[0])"
   ]
  },
  {
   "cell_type": "code",
   "execution_count": 36,
   "metadata": {},
   "outputs": [
    {
     "name": "stdout",
     "output_type": "stream",
     "text": [
      "Epoch 1/100\n",
      "2505/2505 [==============================] - 23s 9ms/step - loss: 0.0251 - acc: 7.9840e-04\n",
      "Epoch 2/100\n",
      "2505/2505 [==============================] - 20s 8ms/step - loss: 0.0039 - acc: 7.9840e-04\n",
      "Epoch 3/100\n",
      "2505/2505 [==============================] - 18s 7ms/step - loss: 0.0018 - acc: 7.9840e-04\n",
      "Epoch 4/100\n",
      "2505/2505 [==============================] - 23s 9ms/step - loss: 0.0039 - acc: 7.9840e-04\n",
      "Epoch 5/100\n",
      "2505/2505 [==============================] - 21s 8ms/step - loss: 0.0025 - acc: 7.9840e-04\n",
      "Epoch 00005: early stopping\n"
     ]
    }
   ],
   "source": [
    "cnn_lstm_model = Sequential()\n",
    "\n",
    "cnn_lstm_model.add(Conv1D(filters=64, kernel_size=2, activation='relu', input_shape=(n_timesteps, n_features)))\n",
    "cnn_lstm_model.add(MaxPooling1D(pool_size=2))\n",
    "\n",
    "cnn_lstm_model.add(Conv1D(filters=32, kernel_size=2, activation='relu'))\n",
    "cnn_lstm_model.add(Dense(50))\n",
    "\n",
    "cnn_lstm_model.add(TimeDistributed(Flatten()))\n",
    "cnn_lstm_model.add(LSTM(4, activation='relu'))\n",
    "\n",
    "cnn_lstm_model.add(Dense(n_outputs))\n",
    "cnn_lstm_model.compile(optimizer='adam', loss='mean_squared_error', metrics=['accuracy'])\n",
    "\n",
    "early_stop = EarlyStopping(monitor='loss', patience=2, verbose=1)\n",
    "history = cnn_lstm_model.fit(trainX_for_cnn, trainy, epochs=100, batch_size=1, verbose=1, callbacks=[early_stop], shuffle=False)"
   ]
  },
  {
   "cell_type": "code",
   "execution_count": 37,
   "metadata": {},
   "outputs": [],
   "source": [
    "# calculate prediction\n",
    "y_pred_test_cnn_lstm = cnn_lstm_model.predict(testX_for_cnn)\n",
    "y_train_pred_cnn_lstm = cnn_lstm_model.predict(trainX_for_cnn)"
   ]
  },
  {
   "cell_type": "code",
   "execution_count": 38,
   "metadata": {},
   "outputs": [
    {
     "data": {
      "image/png": "[encoded data removed]",
      "text/plain": [
       "<Figure size 720x432 with 1 Axes>"
      ]
     },
     "metadata": {
      "needs_background": "light"
     },
     "output_type": "display_data"
    }
   ],
   "source": [
    "plt.figure(figsize=(10, 6))\n",
    "plt.plot(testy, label='True')\n",
    "plt.plot(y_pred_test_cnn_lstm, label='CNN_LSTM')\n",
    "plt.title(\"LSTM Neural Network Prediction\")\n",
    "plt.xlabel('Observation')\n",
    "plt.ylabel('Stock market')\n",
    "plt.legend()\n",
    "plt.show();"
   ]
  },
  {
   "cell_type": "code",
   "execution_count": 39,
   "metadata": {},
   "outputs": [
    {
     "name": "stdout",
     "output_type": "stream",
     "text": [
      "The R2 score on the Train set is:\t-0.536\n",
      "The R2 score on the Test set is:\t-0.213\n"
     ]
    }
   ],
   "source": [
    "print(\"The R2 score on the Train set is:\\t{:0.3f}\".format(r2_score(trainy, y_train_pred_cnn_lstm)))\n",
    "print(\"The R2 score on the Test set is:\\t{:0.3f}\".format(r2_score(testy, y_pred_test_cnn_lstm)))"
   ]
  },
  {
   "cell_type": "code",
   "execution_count": null,
   "metadata": {},
   "outputs": [],
   "source": []
  },
  {
   "cell_type": "code",
   "execution_count": null,
   "metadata": {},
   "outputs": [],
   "source": []
  }
 ],
 "metadata": {
  "kernelspec": {
   "display_name": "Python 3",
   "language": "python",
   "name": "python3"
  },
  "language_info": {
   "codemirror_mode": {
    "name": "ipython",
    "version": 3
   },
   "file_extension": ".py",
   "mimetype": "text/x-python",
   "name": "python",
   "nbconvert_exporter": "python",
   "pygments_lexer": "ipython3",
   "version": "3.5.5"
  }
 },
 "nbformat": 4,
 "nbformat_minor": 2
}

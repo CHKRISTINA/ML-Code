{
 "cells": [
  {
   "cell_type": "markdown",
   "metadata": {},
   "source": [
    "## Time Series Forecasting CORN_PRICE (CNN, LSTM, CNN+LSTM)\n",
    "\n",
    "data: another db"
   ]
  },
  {
   "cell_type": "code",
   "execution_count": 1,
   "metadata": {},
   "outputs": [
    {
     "name": "stderr",
     "output_type": "stream",
     "text": [
      "Using TensorFlow backend.\n"
     ]
    }
   ],
   "source": [
    "import pandas as pd\n",
    "from pandas import Series\n",
    "\n",
    "import numpy as np\n",
    "\n",
    "%matplotlib inline\n",
    "import matplotlib.pyplot as plt\n",
    "\n",
    "from sklearn.preprocessing import MinMaxScaler\n",
    "from sklearn.metrics import r2_score\n",
    "\n",
    "from keras.models import Sequential\n",
    "from keras.layers import Dense, Dropout\n",
    "from keras.callbacks import EarlyStopping\n",
    "from keras.optimizers import Adam\n",
    "from keras.layers import LSTM\n",
    "from keras.layers import GlobalAveragePooling1D\n",
    "\n",
    "from keras.layers.convolutional import Conv1D\n",
    "from keras.layers.convolutional import MaxPooling1D\n",
    "from keras.layers import Reshape\n",
    "from keras.layers import Flatten\n",
    "from keras.layers import TimeDistributed\n"
   ]
  },
  {
   "cell_type": "code",
   "execution_count": 2,
   "metadata": {},
   "outputs": [
    {
     "data": {
      "text/html": [
       "<div>\n",
       "<style scoped>\n",
       "    .dataframe tbody tr th:only-of-type {\n",
       "        vertical-align: middle;\n",
       "    }\n",
       "\n",
       "    .dataframe tbody tr th {\n",
       "        vertical-align: top;\n",
       "    }\n",
       "\n",
       "    .dataframe thead th {\n",
       "        text-align: right;\n",
       "    }\n",
       "</style>\n",
       "<table border=\"1\" class=\"dataframe\">\n",
       "  <thead>\n",
       "    <tr style=\"text-align: right;\">\n",
       "      <th></th>\n",
       "      <th>Date</th>\n",
       "      <th>Corn price</th>\n",
       "    </tr>\n",
       "  </thead>\n",
       "  <tbody>\n",
       "    <tr>\n",
       "      <th>0</th>\n",
       "      <td>2013-01-06</td>\n",
       "      <td>7.794975</td>\n",
       "    </tr>\n",
       "    <tr>\n",
       "      <th>1</th>\n",
       "      <td>2013-01-13</td>\n",
       "      <td>7.863400</td>\n",
       "    </tr>\n",
       "    <tr>\n",
       "      <th>2</th>\n",
       "      <td>2013-01-20</td>\n",
       "      <td>8.234920</td>\n",
       "    </tr>\n",
       "    <tr>\n",
       "      <th>3</th>\n",
       "      <td>2013-01-27</td>\n",
       "      <td>8.186260</td>\n",
       "    </tr>\n",
       "    <tr>\n",
       "      <th>4</th>\n",
       "      <td>2013-02-03</td>\n",
       "      <td>8.317480</td>\n",
       "    </tr>\n",
       "  </tbody>\n",
       "</table>\n",
       "</div>"
      ],
      "text/plain": [
       "         Date  Corn price\n",
       "0  2013-01-06    7.794975\n",
       "1  2013-01-13    7.863400\n",
       "2  2013-01-20    8.234920\n",
       "3  2013-01-27    8.186260\n",
       "4  2013-02-03    8.317480"
      ]
     },
     "execution_count": 2,
     "metadata": {},
     "output_type": "execute_result"
    }
   ],
   "source": [
    "df = pd.read_csv(\"corn2013-2017.txt\", header = None)\n",
    "df.columns = ['Date', 'Corn price']\n",
    "df.head()"
   ]
  },
  {
   "cell_type": "code",
   "execution_count": 3,
   "metadata": {},
   "outputs": [
    {
     "data": {
      "text/html": [
       "<div>\n",
       "<style scoped>\n",
       "    .dataframe tbody tr th:only-of-type {\n",
       "        vertical-align: middle;\n",
       "    }\n",
       "\n",
       "    .dataframe tbody tr th {\n",
       "        vertical-align: top;\n",
       "    }\n",
       "\n",
       "    .dataframe thead th {\n",
       "        text-align: right;\n",
       "    }\n",
       "</style>\n",
       "<table border=\"1\" class=\"dataframe\">\n",
       "  <thead>\n",
       "    <tr style=\"text-align: right;\">\n",
       "      <th></th>\n",
       "      <th>Corn price</th>\n",
       "    </tr>\n",
       "    <tr>\n",
       "      <th>Date</th>\n",
       "      <th></th>\n",
       "    </tr>\n",
       "  </thead>\n",
       "  <tbody>\n",
       "    <tr>\n",
       "      <th>2013-01-06</th>\n",
       "      <td>7.794975</td>\n",
       "    </tr>\n",
       "    <tr>\n",
       "      <th>2013-01-13</th>\n",
       "      <td>7.863400</td>\n",
       "    </tr>\n",
       "    <tr>\n",
       "      <th>2013-01-20</th>\n",
       "      <td>8.234920</td>\n",
       "    </tr>\n",
       "    <tr>\n",
       "      <th>2013-01-27</th>\n",
       "      <td>8.186260</td>\n",
       "    </tr>\n",
       "    <tr>\n",
       "      <th>2013-02-03</th>\n",
       "      <td>8.317480</td>\n",
       "    </tr>\n",
       "  </tbody>\n",
       "</table>\n",
       "</div>"
      ],
      "text/plain": [
       "            Corn price\n",
       "Date                  \n",
       "2013-01-06    7.794975\n",
       "2013-01-13    7.863400\n",
       "2013-01-20    8.234920\n",
       "2013-01-27    8.186260\n",
       "2013-02-03    8.317480"
      ]
     },
     "execution_count": 3,
     "metadata": {},
     "output_type": "execute_result"
    }
   ],
   "source": [
    "df['Date'] = pd.to_datetime(df['Date'])\n",
    "df = df.set_index(['Date'], drop=True)\n",
    "df.head()"
   ]
  },
  {
   "cell_type": "code",
   "execution_count": 4,
   "metadata": {},
   "outputs": [
    {
     "data": {
      "image/png": "[encoded data removed]",
      "text/plain": [
       "<Figure size 720x432 with 1 Axes>"
      ]
     },
     "metadata": {
      "needs_background": "light"
     },
     "output_type": "display_data"
    }
   ],
   "source": [
    "# Converting the index as date\n",
    "df.index = pd.to_datetime(df.index)\n",
    "\n",
    "# Visualize\n",
    "plt.figure(figsize=(10, 6))\n",
    "df['Corn price'].plot();"
   ]
  },
  {
   "cell_type": "code",
   "execution_count": 5,
   "metadata": {},
   "outputs": [
    {
     "data": {
      "image/png": "[encoded data removed]",
      "text/plain": [
       "<Figure size 720x432 with 1 Axes>"
      ]
     },
     "metadata": {
      "needs_background": "light"
     },
     "output_type": "display_data"
    }
   ],
   "source": [
    "# For the model split data fro trainig and testing that will be used to check the prediction\n",
    "split_date = pd.Timestamp('2016-10-01')\n",
    "df =  df['Corn price']\n",
    "train = df.loc[:split_date]\n",
    "test = df.loc[split_date:]\n",
    "plt.figure(figsize=(10, 6))\n",
    "ax = train.plot()\n",
    "test.plot(ax=ax)\n",
    "plt.legend(['train', 'test']);"
   ]
  },
  {
   "cell_type": "code",
   "execution_count": null,
   "metadata": {},
   "outputs": [],
   "source": [
    "len(df) # 3019 \n",
    "df.head() # starts from 2006-01-03\n",
    "df.tail() # finish at 2017-12-29\n",
    "len(train) # 2768\n",
    "len(test) # 251"
   ]
  },
  {
   "cell_type": "markdown",
   "metadata": {},
   "source": [
    "# CNN model\n",
    "\n",
    "### Data normalization"
   ]
  },
  {
   "cell_type": "code",
   "execution_count": 6,
   "metadata": {},
   "outputs": [],
   "source": [
    "# Prepare data for the model\n",
    "train_values = train.values\n",
    "test_values = test.values\n",
    "\n",
    "train_values = train_values.reshape(-1, 1)\n",
    "test_values = test_values.reshape(-1, 1)\n",
    "\n",
    "scaler = MinMaxScaler(feature_range=(0, 1))\n",
    "train_nor = scaler.fit_transform(train_values)\n",
    "test_nor = scaler.fit_transform(test_values)"
   ]
  },
  {
   "cell_type": "code",
   "execution_count": 7,
   "metadata": {
    "scrolled": true
   },
   "outputs": [
    {
     "data": {
      "text/plain": [
       "(array([[0.88944548],\n",
       "        [0.90392322],\n",
       "        [0.98253149]]), array([[0.34499879],\n",
       "        [0.600662  ],\n",
       "        [0.62669379]]))"
      ]
     },
     "execution_count": 7,
     "metadata": {},
     "output_type": "execute_result"
    }
   ],
   "source": [
    "train_nor[0:3], test_nor[0:3]"
   ]
  },
  {
   "cell_type": "markdown",
   "metadata": {},
   "source": [
    "### Create data sequences to pass to the models\n",
    "\n",
    "In this example we create 6-values sequences to predict the following value"
   ]
  },
  {
   "cell_type": "code",
   "execution_count": 8,
   "metadata": {},
   "outputs": [],
   "source": [
    "FORWARD_STEPS = 10 # the number of values used for 1 prediction\n",
    "\n",
    "def convert_to_Xy_1d(data, feature_idx, n_input=FORWARD_STEPS, n_output=1):\n",
    "    X, y = [],[]\n",
    "    in_start = 0\n",
    "    for i in range(len(data)):\n",
    "        in_end = in_start + n_input\n",
    "        out_end = in_end + n_output\n",
    "        if out_end < len(data):\n",
    "            x_input = data[in_start:in_end, feature_idx]\n",
    "            x_input = x_input.reshape((len(x_input), 1)) # column vector\n",
    "            X.append(x_input)\n",
    "            y.append(data[in_end:out_end, feature_idx])\n",
    "        # step forward one unit\n",
    "        in_start += 1\n",
    "    return np.array(X), np.array(y)"
   ]
  },
  {
   "cell_type": "code",
   "execution_count": null,
   "metadata": {},
   "outputs": [],
   "source": [
    "# WITH NORMALIZATION\n",
    "\n",
    "# create train examples\n",
    "trainX, trainy = convert_to_Xy_1d(train_nor, 0)\n",
    "print('train input: ', trainX[0])\n",
    "print('train output: ', trainy[0])\n",
    "\n",
    "# the same formal should be for the train examples\n",
    "testX, testy = convert_to_Xy_1d(test_nor, 0)\n",
    "print(testX[0], testy[0])"
   ]
  },
  {
   "cell_type": "code",
   "execution_count": 9,
   "metadata": {},
   "outputs": [
    {
     "name": "stdout",
     "output_type": "stream",
     "text": [
      "train input:  [[7.794975]\n",
      " [7.8634  ]\n",
      " [8.23492 ]\n",
      " [8.18626 ]\n",
      " [8.31748 ]\n",
      " [8.15404 ]\n",
      " [7.88374 ]\n",
      " [7.85942 ]\n",
      " [7.95856 ]\n",
      " [7.97626 ]]\n",
      "train output:  [8.14566]\n",
      "train input:  [[3.70712]\n",
      " [3.85542]\n",
      " [3.87052]\n",
      " [3.96062]\n",
      " [3.95334]\n",
      " [3.90912]\n",
      " [3.8599 ]\n",
      " [3.82072]\n",
      " [3.9203 ]\n",
      " [3.8133 ]]\n",
      "train output:  [3.90946]\n"
     ]
    }
   ],
   "source": [
    "# WITHOUT NORMALIZATION\n",
    "\n",
    "train_values = train.values\n",
    "test_values = test.values\n",
    "\n",
    "train_values = train_values.reshape(-1, 1)\n",
    "test_values = test_values.reshape(-1, 1)\n",
    "\n",
    "trainX, trainy = convert_to_Xy_1d(train_values, 0)\n",
    "print('train input: ', trainX[0])\n",
    "print('train output: ', trainy[0])\n",
    "\n",
    "testX, testy = convert_to_Xy_1d(test_values, 0)\n",
    "print('train input: ', testX[0])\n",
    "print('train output: ', testy[0])"
   ]
  },
  {
   "cell_type": "markdown",
   "metadata": {},
   "source": [
    "### Find parameters and reshape examples for CNN model"
   ]
  },
  {
   "cell_type": "code",
   "execution_count": 10,
   "metadata": {},
   "outputs": [],
   "source": [
    "trainX_for_cnn = trainX\n",
    "testX_for_cnn = testX"
   ]
  },
  {
   "cell_type": "code",
   "execution_count": 11,
   "metadata": {},
   "outputs": [
    {
     "name": "stdout",
     "output_type": "stream",
     "text": [
      "10 1 1\n"
     ]
    }
   ],
   "source": [
    "n_timesteps, n_features, n_outputs = trainX_for_cnn.shape[1], trainX_for_cnn.shape[2], trainy.shape[1]\n",
    "print(n_timesteps, n_features, n_outputs)"
   ]
  },
  {
   "cell_type": "code",
   "execution_count": 12,
   "metadata": {},
   "outputs": [
    {
     "name": "stdout",
     "output_type": "stream",
     "text": [
      "(184, 10, 1) (184, 1)\n",
      "(10, 1) (1,)\n"
     ]
    }
   ],
   "source": [
    "print(trainX_for_cnn.shape, trainy.shape)\n",
    "print(trainX_for_cnn[0].shape, trainy[0].shape)"
   ]
  },
  {
   "cell_type": "code",
   "execution_count": 13,
   "metadata": {},
   "outputs": [
    {
     "name": "stdout",
     "output_type": "stream",
     "text": [
      "WARNING:tensorflow:From /Users/kkhvatov/anaconda3/lib/python3.5/site-packages/tensorflow/python/framework/op_def_library.py:263: colocate_with (from tensorflow.python.framework.ops) is deprecated and will be removed in a future version.\n",
      "Instructions for updating:\n",
      "Colocations handled automatically by placer.\n",
      "WARNING:tensorflow:From /Users/kkhvatov/anaconda3/lib/python3.5/site-packages/tensorflow/python/ops/math_ops.py:3066: to_int32 (from tensorflow.python.ops.math_ops) is deprecated and will be removed in a future version.\n",
      "Instructions for updating:\n",
      "Use tf.cast instead.\n",
      "Epoch 1/100\n",
      " - 2s - loss: 4.9498 - acc: 0.0000e+00\n",
      "Epoch 2/100\n",
      " - 1s - loss: 0.2569 - acc: 0.0000e+00\n",
      "Epoch 3/100\n",
      " - 1s - loss: 0.2563 - acc: 0.0000e+00\n",
      "Epoch 4/100\n",
      " - 1s - loss: 0.2574 - acc: 0.0000e+00\n",
      "Epoch 5/100\n",
      " - 1s - loss: 0.2607 - acc: 0.0000e+00\n",
      "Epoch 6/100\n",
      " - 1s - loss: 0.2618 - acc: 0.0000e+00\n",
      "Epoch 00006: early stopping\n"
     ]
    }
   ],
   "source": [
    "# Create model\n",
    "cnn_model = Sequential()\n",
    "\n",
    "cnn_model.add(Conv1D(filters=64, kernel_size=2, activation='relu', input_shape=(n_timesteps, n_features))) #same as trainX[0].shape \n",
    "cnn_model.add(MaxPooling1D(pool_size=2))\n",
    "\n",
    "cnn_model.add(Conv1D(filters=32, kernel_size=2, activation='relu'))\n",
    "cnn_model.add(GlobalAveragePooling1D())\n",
    "\n",
    "cnn_model.add(Dense(50, activation='relu'))\n",
    "cnn_model.add(Dense(n_outputs))\n",
    "cnn_model.compile(loss='mean_squared_error', optimizer='adam', metrics=['accuracy'])\n",
    "\n",
    "early_stop = EarlyStopping(monitor='loss', patience=3, verbose=1)\n",
    "history = cnn_model.fit(trainX_for_cnn, trainy, epochs=100, batch_size=1, verbose=2, callbacks=[early_stop], shuffle=False)"
   ]
  },
  {
   "cell_type": "code",
   "execution_count": 14,
   "metadata": {},
   "outputs": [],
   "source": [
    "def convert_to_1darray(y):\n",
    "    y_pred = []\n",
    "    y_pred.extend(y[0])\n",
    "    for i in range(1,len(y)):\n",
    "        y_pred.append(y[i][0])\n",
    "    \n",
    "    return y_pred"
   ]
  },
  {
   "cell_type": "code",
   "execution_count": 15,
   "metadata": {},
   "outputs": [],
   "source": [
    "# calculate prediction\n",
    "y_pred_test_cnn = cnn_model.predict(testX)\n",
    "y_train_pred_cnn = cnn_model.predict(trainX)"
   ]
  },
  {
   "cell_type": "code",
   "execution_count": 16,
   "metadata": {},
   "outputs": [],
   "source": [
    "y_pred_cnn = convert_to_1darray(y_pred_test_cnn)"
   ]
  },
  {
   "cell_type": "code",
   "execution_count": 19,
   "metadata": {},
   "outputs": [
    {
     "data": {
      "image/png": "[encoded data removed]",
      "text/plain": [
       "<Figure size 720x432 with 1 Axes>"
      ]
     },
     "metadata": {
      "needs_background": "light"
     },
     "output_type": "display_data"
    }
   ],
   "source": [
    "# All train period\n",
    "plt.figure(figsize=(10, 6))\n",
    "plt.plot(testy, label='True')\n",
    "plt.plot(y_pred_cnn, label='CNN')\n",
    "plt.title(\"CNN's Prediction\")\n",
    "plt.xlabel('Observation')\n",
    "plt.ylabel('Price')\n",
    "plt.legend()\n",
    "plt.show();"
   ]
  },
  {
   "cell_type": "code",
   "execution_count": 18,
   "metadata": {},
   "outputs": [
    {
     "name": "stdout",
     "output_type": "stream",
     "text": [
      "The R2 score on the Train set is:\t0.599\n",
      "The R2 score on the Test set is:\t-6.338\n"
     ]
    }
   ],
   "source": [
    "# When 𝑅2 equals 1 it means that the model is able to fully recreate dependent variable,\n",
    "#when it equals 0, it means that the model completely failed at this task.\n",
    "print(\"The R2 score on the Train set is:\\t{:0.3f}\".format(r2_score(trainy, y_train_pred_cnn)))\n",
    "print(\"The R2 score on the Test set is:\\t{:0.3f}\".format(r2_score(testy, y_pred_test_cnn)))"
   ]
  },
  {
   "cell_type": "markdown",
   "metadata": {},
   "source": [
    "# LSTM model\n",
    "\n",
    "We will use the same data after normalization and creating sequences of examples: trainX, trainy, testX, testy "
   ]
  },
  {
   "cell_type": "code",
   "execution_count": 20,
   "metadata": {},
   "outputs": [],
   "source": [
    "# Prepare data for the model\n",
    "train_values = train.values\n",
    "test_values = test.values\n",
    "\n",
    "train_values = train_values.reshape(-1, 1)\n",
    "test_values = test_values.reshape(-1, 1)\n",
    "\n",
    "scaler = MinMaxScaler(feature_range=(0, 1))\n",
    "train_nor = scaler.fit_transform(train_values)\n",
    "test_nor = scaler.fit_transform(test_values)"
   ]
  },
  {
   "cell_type": "code",
   "execution_count": 21,
   "metadata": {},
   "outputs": [
    {
     "name": "stdout",
     "output_type": "stream",
     "text": [
      "train input:  [[0.88944548]\n",
      " [0.90392322]\n",
      " [0.98253149]\n",
      " [0.97223574]\n",
      " [1.        ]\n",
      " [0.96541845]\n",
      " [0.90822687]\n",
      " [0.90308111]\n",
      " [0.9240577 ]\n",
      " [0.92780277]]\n",
      "train output:  [0.96364537]\n",
      "[[0.34499879]\n",
      " [0.600662  ]\n",
      " [0.62669379]\n",
      " [0.78202255]\n",
      " [0.76947212]\n",
      " [0.69323863]\n",
      " [0.60838534]\n",
      " [0.5408406 ]\n",
      " [0.7125125 ]\n",
      " [0.52804882]] [0.69382478]\n"
     ]
    }
   ],
   "source": [
    "trainX, trainy = convert_to_Xy_1d(train_nor, 0)\n",
    "print('train input: ', trainX[0])\n",
    "print('train output: ', trainy[0])\n",
    "\n",
    "testX, testy = convert_to_Xy_1d(test_nor, 0)\n",
    "print(testX[0], testy[0])"
   ]
  },
  {
   "cell_type": "code",
   "execution_count": 22,
   "metadata": {},
   "outputs": [],
   "source": [
    "# reshape input to be [samples, time steps, features]\n",
    "trainX_for_lstm = np.reshape(trainX, (trainX.shape[0], 1, trainX.shape[1]))\n",
    "testX_for_lstm = np.reshape(testX, (testX.shape[0], 1, testX.shape[1]))"
   ]
  },
  {
   "cell_type": "code",
   "execution_count": 23,
   "metadata": {},
   "outputs": [
    {
     "name": "stdout",
     "output_type": "stream",
     "text": [
      "(184, 1, 10)\n",
      "(42, 1, 10)\n"
     ]
    }
   ],
   "source": [
    "print(trainX_for_lstm.shape)\n",
    "print(testX_for_lstm.shape)"
   ]
  },
  {
   "cell_type": "code",
   "execution_count": 24,
   "metadata": {},
   "outputs": [
    {
     "name": "stdout",
     "output_type": "stream",
     "text": [
      "Epoch 1/100\n",
      "184/184 [==============================] - 3s 16ms/step - loss: 0.0709 - acc: 0.0054\n",
      "Epoch 2/100\n",
      "184/184 [==============================] - 1s 7ms/step - loss: 0.0232 - acc: 0.0054\n",
      "Epoch 3/100\n",
      "184/184 [==============================] - 1s 6ms/step - loss: 0.0154 - acc: 0.0054\n",
      "Epoch 4/100\n",
      "184/184 [==============================] - 1s 6ms/step - loss: 0.0118 - acc: 0.0054\n",
      "Epoch 5/100\n",
      "184/184 [==============================] - 1s 6ms/step - loss: 0.0096 - acc: 0.0054\n",
      "Epoch 6/100\n",
      "184/184 [==============================] - 1s 6ms/step - loss: 0.0082 - acc: 0.0054\n",
      "Epoch 7/100\n",
      "184/184 [==============================] - 1s 7ms/step - loss: 0.0075 - acc: 0.0054\n",
      "Epoch 8/100\n",
      "184/184 [==============================] - 1s 8ms/step - loss: 0.0068 - acc: 0.0054\n",
      "Epoch 9/100\n",
      "184/184 [==============================] - 1s 8ms/step - loss: 0.0064 - acc: 0.0054\n",
      "Epoch 10/100\n",
      "184/184 [==============================] - 1s 6ms/step - loss: 0.0059 - acc: 0.0054\n",
      "Epoch 11/100\n",
      "184/184 [==============================] - 1s 7ms/step - loss: 0.0055 - acc: 0.0054\n",
      "Epoch 12/100\n",
      "184/184 [==============================] - 1s 8ms/step - loss: 0.0052 - acc: 0.0054- ETA: 0s - loss: 0.0053 - acc: 0.0000e+\n",
      "Epoch 13/100\n",
      "184/184 [==============================] - 2s 8ms/step - loss: 0.0049 - acc: 0.0054\n",
      "Epoch 14/100\n",
      "184/184 [==============================] - 1s 7ms/step - loss: 0.0047 - acc: 0.0054\n",
      "Epoch 15/100\n",
      "184/184 [==============================] - 1s 7ms/step - loss: 0.0045 - acc: 0.0054\n",
      "Epoch 16/100\n",
      "184/184 [==============================] - 1s 6ms/step - loss: 0.0043 - acc: 0.0054\n",
      "Epoch 17/100\n",
      "184/184 [==============================] - 1s 6ms/step - loss: 0.0042 - acc: 0.0054\n",
      "Epoch 18/100\n",
      "184/184 [==============================] - 1s 7ms/step - loss: 0.0041 - acc: 0.0054\n",
      "Epoch 19/100\n",
      "184/184 [==============================] - 1s 7ms/step - loss: 0.0041 - acc: 0.0054\n",
      "Epoch 20/100\n",
      "184/184 [==============================] - 1s 6ms/step - loss: 0.0040 - acc: 0.0054\n",
      "Epoch 21/100\n",
      "184/184 [==============================] - 1s 8ms/step - loss: 0.0039 - acc: 0.0054\n",
      "Epoch 22/100\n",
      "184/184 [==============================] - 1s 7ms/step - loss: 0.0039 - acc: 0.0054\n",
      "Epoch 23/100\n",
      "184/184 [==============================] - 1s 6ms/step - loss: 0.0038 - acc: 0.0054\n",
      "Epoch 24/100\n",
      "184/184 [==============================] - 1s 5ms/step - loss: 0.0038 - acc: 0.0054\n",
      "Epoch 25/100\n",
      "184/184 [==============================] - 1s 5ms/step - loss: 0.0038 - acc: 0.0054\n",
      "Epoch 26/100\n",
      "184/184 [==============================] - 1s 4ms/step - loss: 0.0038 - acc: 0.0054\n",
      "Epoch 27/100\n",
      "184/184 [==============================] - 1s 5ms/step - loss: 0.0037 - acc: 0.0054\n",
      "Epoch 28/100\n",
      "184/184 [==============================] - 1s 5ms/step - loss: 0.0038 - acc: 0.0054\n",
      "Epoch 29/100\n",
      "184/184 [==============================] - 1s 6ms/step - loss: 0.0036 - acc: 0.0054\n",
      "Epoch 30/100\n",
      "184/184 [==============================] - 1s 6ms/step - loss: 0.0036 - acc: 0.0054\n",
      "Epoch 31/100\n",
      "184/184 [==============================] - 1s 5ms/step - loss: 0.0037 - acc: 0.0054\n",
      "Epoch 32/100\n",
      "184/184 [==============================] - 1s 5ms/step - loss: 0.0036 - acc: 0.0054\n",
      "Epoch 33/100\n",
      "184/184 [==============================] - 1s 8ms/step - loss: 0.0035 - acc: 0.0054\n",
      "Epoch 34/100\n",
      "184/184 [==============================] - 1s 6ms/step - loss: 0.0035 - acc: 0.0054\n",
      "Epoch 35/100\n",
      "184/184 [==============================] - 1s 7ms/step - loss: 0.0035 - acc: 0.0054\n",
      "Epoch 36/100\n",
      "184/184 [==============================] - 1s 6ms/step - loss: 0.0035 - acc: 0.0054\n",
      "Epoch 00036: early stopping\n"
     ]
    }
   ],
   "source": [
    "# create and fit the LSTM network\n",
    "# input shape = (1, forward_steps)\n",
    "# a layer with 4 LSTM blocks \n",
    "lstm_model = Sequential()\n",
    "lstm_model.add(LSTM(4, input_shape=(1, FORWARD_STEPS)))\n",
    "lstm_model.add(Dense(50, activation='relu'))\n",
    "lstm_model.add(Dense(n_outputs))\n",
    "\n",
    "lstm_model.compile(loss='mean_squared_error', optimizer='adam', metrics=['accuracy'])\n",
    "\n",
    "early_stop = EarlyStopping(monitor='loss', patience=3, verbose=1)\n",
    "history = lstm_model.fit(trainX_for_lstm, trainy, epochs=100, batch_size=1, verbose=1, callbacks=[early_stop], shuffle=False)"
   ]
  },
  {
   "cell_type": "code",
   "execution_count": 25,
   "metadata": {},
   "outputs": [],
   "source": [
    "y_pred_test_lstm = lstm_model.predict(testX_for_lstm)\n",
    "y_train_pred_lstm = lstm_model.predict(trainX_for_lstm)"
   ]
  },
  {
   "cell_type": "code",
   "execution_count": 26,
   "metadata": {},
   "outputs": [
    {
     "data": {
      "image/png": "[encoded data removed]",
      "text/plain": [
       "<Figure size 720x432 with 1 Axes>"
      ]
     },
     "metadata": {
      "needs_background": "light"
     },
     "output_type": "display_data"
    }
   ],
   "source": [
    "plt.figure(figsize=(10, 6))\n",
    "plt.plot(testy, label='True')\n",
    "plt.plot(y_pred_test_lstm, label='LSTM')\n",
    "plt.title(\"LSTM Neural Network Prediction\")\n",
    "plt.xlabel('Observation')\n",
    "plt.ylabel('Corn price')\n",
    "plt.legend()\n",
    "plt.show();"
   ]
  },
  {
   "cell_type": "code",
   "execution_count": 27,
   "metadata": {},
   "outputs": [
    {
     "name": "stdout",
     "output_type": "stream",
     "text": [
      "The R2 score on the Train set is:\t0.862\n",
      "The R2 score on the Test set is:\t0.468\n"
     ]
    }
   ],
   "source": [
    "print(\"The R2 score on the Train set is:\\t{:0.3f}\".format(r2_score(trainy, y_train_pred_lstm)))\n",
    "print(\"The R2 score on the Test set is:\\t{:0.3f}\".format(r2_score(testy, y_pred_test_lstm)))"
   ]
  },
  {
   "cell_type": "markdown",
   "metadata": {},
   "source": [
    "# CNN Long Short-Term Memory Networks\n",
    "\n",
    "The CNN LSTM architecture involves using Convolutional Neural Network (CNN) layers for feature extraction on input data combined with LSTMs to support sequence prediction."
   ]
  },
  {
   "cell_type": "code",
   "execution_count": 28,
   "metadata": {},
   "outputs": [],
   "source": [
    "# reshape from [samples, timesteps] into [samples, subsequences, timesteps, features]\n",
    "n_features = 1\n",
    "n_seq = 1\n",
    "n_steps = FORWARD_STEPS\n",
    "trainX_for_cnn_lstm = trainX.reshape((trainX.shape[0], n_seq, n_steps, n_features))\n",
    "testX_for_cnn_lstm = testX.reshape((testX.shape[0], n_seq, n_steps, n_features))\n"
   ]
  },
  {
   "cell_type": "code",
   "execution_count": 29,
   "metadata": {},
   "outputs": [
    {
     "name": "stdout",
     "output_type": "stream",
     "text": [
      "Train\n",
      "(1, 10, 1)\n",
      "[[[0.88944548]\n",
      "  [0.90392322]\n",
      "  [0.98253149]\n",
      "  [0.97223574]\n",
      "  [1.        ]\n",
      "  [0.96541845]\n",
      "  [0.90822687]\n",
      "  [0.90308111]\n",
      "  [0.9240577 ]\n",
      "  [0.92780277]]]\n",
      "Test\n",
      "(1,)\n",
      "[0.96364537]\n"
     ]
    }
   ],
   "source": [
    "print('Train')\n",
    "print(trainX_for_cnn_lstm[0].shape)\n",
    "print(trainX_for_cnn_lstm[0])\n",
    "\n",
    "print('Test')\n",
    "print(trainy[0].shape)\n",
    "print(trainy[0])"
   ]
  },
  {
   "cell_type": "code",
   "execution_count": 30,
   "metadata": {},
   "outputs": [
    {
     "name": "stdout",
     "output_type": "stream",
     "text": [
      "Epoch 1/100\n",
      "184/184 [==============================] - 3s 16ms/step - loss: 0.0149 - acc: 0.0054\n",
      "Epoch 2/100\n",
      "184/184 [==============================] - 2s 10ms/step - loss: 0.0195 - acc: 0.0054\n",
      "Epoch 3/100\n",
      "184/184 [==============================] - 2s 11ms/step - loss: 0.0264 - acc: 0.0054\n",
      "Epoch 00003: early stopping\n"
     ]
    }
   ],
   "source": [
    "cnn_lstm_model = Sequential()\n",
    "\n",
    "cnn_lstm_model.add(Conv1D(filters=64, kernel_size=2, activation='relu', input_shape=(n_timesteps, n_features)))\n",
    "cnn_lstm_model.add(MaxPooling1D(pool_size=2))\n",
    "\n",
    "cnn_lstm_model.add(Conv1D(filters=32, kernel_size=2, activation='relu'))\n",
    "cnn_lstm_model.add(Dense(50))\n",
    "\n",
    "cnn_lstm_model.add(TimeDistributed(Flatten()))\n",
    "cnn_lstm_model.add(LSTM(4, activation='relu'))\n",
    "\n",
    "cnn_lstm_model.add(Dense(n_outputs))\n",
    "cnn_lstm_model.compile(optimizer='adam', loss='mean_squared_error', metrics=['accuracy'])\n",
    "\n",
    "early_stop = EarlyStopping(monitor='loss', patience=2, verbose=1)\n",
    "history = cnn_lstm_model.fit(trainX_for_cnn, trainy, epochs=100, batch_size=1, verbose=1, callbacks=[early_stop], shuffle=False)"
   ]
  },
  {
   "cell_type": "code",
   "execution_count": 33,
   "metadata": {},
   "outputs": [],
   "source": [
    "# calculate prediction\n",
    "y_pred_test_cnn_lstm = cnn_lstm_model.predict(testX_for_cnn)\n",
    "y_train_pred_cnn_lstm = cnn_lstm_model.predict(trainX_for_cnn)"
   ]
  },
  {
   "cell_type": "code",
   "execution_count": 34,
   "metadata": {},
   "outputs": [
    {
     "data": {
      "image/png": "[encoded data removed]",
      "text/plain": [
       "<Figure size 720x432 with 1 Axes>"
      ]
     },
     "metadata": {
      "needs_background": "light"
     },
     "output_type": "display_data"
    }
   ],
   "source": [
    "plt.figure(figsize=(10, 6))\n",
    "plt.plot(testy, label='True')\n",
    "plt.plot(y_pred_test_cnn_lstm, label='CNN_LSTM')\n",
    "plt.title(\"LSTM Neural Network Prediction\")\n",
    "plt.xlabel('Observation')\n",
    "plt.ylabel('Stock market')\n",
    "plt.legend()\n",
    "plt.show();"
   ]
  },
  {
   "cell_type": "code",
   "execution_count": 35,
   "metadata": {},
   "outputs": [
    {
     "name": "stdout",
     "output_type": "stream",
     "text": [
      "The R2 score on the Train set is:\t-0.560\n",
      "The R2 score on the Test set is:\t-3.692\n"
     ]
    }
   ],
   "source": [
    "print(\"The R2 score on the Train set is:\\t{:0.3f}\".format(r2_score(trainy, y_train_pred_cnn_lstm)))\n",
    "print(\"The R2 score on the Test set is:\\t{:0.3f}\".format(r2_score(testy, y_pred_test_cnn_lstm)))"
   ]
  },
  {
   "cell_type": "code",
   "execution_count": null,
   "metadata": {},
   "outputs": [],
   "source": []
  },
  {
   "cell_type": "code",
   "execution_count": null,
   "metadata": {},
   "outputs": [],
   "source": []
  }
 ],
 "metadata": {
  "kernelspec": {
   "display_name": "Python 3",
   "language": "python",
   "name": "python3"
  },
  "language_info": {
   "codemirror_mode": {
    "name": "ipython",
    "version": 3
   },
   "file_extension": ".py",
   "mimetype": "text/x-python",
   "name": "python",
   "nbconvert_exporter": "python",
   "pygments_lexer": "ipython3",
   "version": "3.5.5"
  }
 },
 "nbformat": 4,
 "nbformat_minor": 2
}

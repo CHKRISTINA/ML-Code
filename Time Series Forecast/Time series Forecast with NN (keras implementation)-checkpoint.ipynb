{
 "cells": [
  {
   "cell_type": "markdown",
   "metadata": {},
   "source": [
    "## Time Series Forecasting with Neural Networks\n",
    "\n",
    "\n",
    "\n",
    "#### The Data\n",
    "\n",
    "The CBOE Volatility Index (VIX) is a measure of the stock market’s expectation of volatility implied by S&P 500 index options.\n",
    "\n",
    "The data are download from: https://ca.finance.yahoo.com/quote/%5Evix/history?ltr=1\n",
    "\n",
    "#### Task:\n",
    "\n",
    "Create a simple neuran network to make time series prediction"
   ]
  },
  {
   "cell_type": "code",
   "execution_count": null,
   "metadata": {},
   "outputs": [],
   "source": [
    "import pandas as pd\n",
    "import numpy as np\n",
    "%matplotlib inline\n",
    "import matplotlib.pyplot as plt\n",
    "from sklearn.preprocessing import MinMaxScaler\n",
    "from sklearn.metrics import r2_score\n",
    "from keras.models import Sequential\n",
    "from keras.layers import Dense\n",
    "from keras.callbacks import EarlyStopping\n",
    "from keras.optimizers import Adam\n",
    "from keras.layers import LSTM"
   ]
  },
  {
   "cell_type": "code",
   "execution_count": null,
   "metadata": {},
   "outputs": [],
   "source": [
    "# Df from 14/04/2015 to 14/04/2019\n",
    "df = pd.read_csv(\"time_series_data.csv\")"
   ]
  },
  {
   "cell_type": "code",
   "execution_count": null,
   "metadata": {},
   "outputs": [],
   "source": [
    "# explore dataset\n",
    "df.head(10)"
   ]
  },
  {
   "cell_type": "code",
   "execution_count": null,
   "metadata": {},
   "outputs": [],
   "source": [
    "# delete unusefull data\n",
    "df.drop(['Open', 'High', 'Low', 'Close', 'Volume'], axis=1, inplace=True)\n",
    "df['Date'] = pd.to_datetime(df['Date'])\n",
    "df = df.set_index(['Date'], drop=True)\n",
    "df.head(10)"
   ]
  },
  {
   "cell_type": "code",
   "execution_count": null,
   "metadata": {},
   "outputs": [],
   "source": [
    "# Visualize Adj Close by date\n",
    "plt.figure(figsize=(10, 6))\n",
    "df['Adj Close'].plot();"
   ]
  },
  {
   "cell_type": "code",
   "execution_count": null,
   "metadata": {},
   "outputs": [],
   "source": [
    "# For the model split data fro trainig and testing that will be used to check the prediction\n",
    "split_date = pd.Timestamp('2018-08-01')\n",
    "df =  df['Adj Close']\n",
    "train = df.loc[:split_date]\n",
    "test = df.loc[split_date:]\n",
    "plt.figure(figsize=(10, 6))\n",
    "ax = train.plot()\n",
    "test.plot(ax=ax)\n",
    "plt.legend(['train', 'test']);"
   ]
  },
  {
   "cell_type": "code",
   "execution_count": null,
   "metadata": {},
   "outputs": [],
   "source": [
    "# Normalize time series data\n",
    "from pandas import Series\n",
    "from sklearn.preprocessing import MinMaxScaler\n",
    "# load the dataset and print the first 5 rows\n",
    "\n",
    "# prepare data for normalization\n",
    "train_nor = train.values\n",
    "train_nor = train_nor.reshape((len(train_nor), 1))\n",
    "# train the normalization\n",
    "scaler = MinMaxScaler(feature_range=(0, 1))\n",
    "scaler = scaler.fit(train_nor)\n",
    "print('Min: %f, Max: %f' % (scaler.data_min_, scaler.data_max_))"
   ]
  },
  {
   "cell_type": "code",
   "execution_count": null,
   "metadata": {},
   "outputs": [],
   "source": [
    "# normalize the dataset and print the first 5 rows\n",
    "train_normalized = scaler.transform(train_nor)\n",
    "for i in range(5):\n",
    "    print(train_normalized[i])"
   ]
  },
  {
   "cell_type": "code",
   "execution_count": null,
   "metadata": {},
   "outputs": [],
   "source": [
    "test_nor = test.values\n",
    "test_nor = test_nor.reshape((len(test_nor), 1))\n",
    "\n",
    "test_normalized = scaler.transform(test_nor)\n",
    "for i in range(5):\n",
    "    print(test_normalized[i])"
   ]
  },
  {
   "cell_type": "code",
   "execution_count": null,
   "metadata": {},
   "outputs": [],
   "source": [
    "print('Train: ', train_normalized[:10], len(train_normalized))\n",
    "print('Test: ', test_normalized[:10], len(test_normalized))"
   ]
  },
  {
   "cell_type": "code",
   "execution_count": null,
   "metadata": {},
   "outputs": [],
   "source": [
    "# Get train and test for the model\n",
    "X_train = train_normalized[:-1]\n",
    "y_train = train_normalized[1:]\n",
    "\n",
    "X_test = test_normalized[:-1]\n",
    "y_test = test_normalized[1:]"
   ]
  },
  {
   "cell_type": "markdown",
   "metadata": {},
   "source": [
    "## Simple Neural Network (nn_model)"
   ]
  },
  {
   "cell_type": "code",
   "execution_count": null,
   "metadata": {},
   "outputs": [],
   "source": [
    "# Create a model\n",
    "nn_model = Sequential()\n",
    "nn_model.add(Dense(12, input_dim=1, activation='relu'))\n",
    "nn_model.add(Dense(1))\n",
    "nn_model.compile(loss='mean_squared_error', optimizer='adam')\n",
    "early_stop = EarlyStopping(monitor='loss', patience=2, verbose=1)\n",
    "history = nn_model.fit(X_train, y_train, epochs=20, batch_size=1, verbose=1, callbacks=[early_stop], shuffle=False)"
   ]
  },
  {
   "cell_type": "code",
   "execution_count": null,
   "metadata": {},
   "outputs": [],
   "source": [
    "# Check loss function\n",
    "history.history"
   ]
  },
  {
   "cell_type": "code",
   "execution_count": null,
   "metadata": {},
   "outputs": [],
   "source": [
    "y_pred_test_nn = nn_model.predict(X_test)\n",
    "y_train_pred_nn = nn_model.predict(X_train)\n",
    "print(\"The R2 score on the Train set is:\\t{:0.3f}\".format(r2_score(y_train, y_train_pred_nn)))\n",
    "print(\"The R2 score on the Test set is:\\t{:0.3f}\".format(r2_score(y_test, y_pred_test_nn)))"
   ]
  },
  {
   "cell_type": "code",
   "execution_count": null,
   "metadata": {},
   "outputs": [],
   "source": [
    "plt.figure(figsize=(10, 6))\n",
    "plt.plot(y_test, label='True')\n",
    "plt.plot(y_pred_test_nn, label='CNN')\n",
    "plt.title(\"NN's Prediction\")\n",
    "plt.xlabel('Observation')\n",
    "plt.ylabel('Adj Close')\n",
    "plt.legend()\n",
    "plt.show();"
   ]
  }
 ],
 "metadata": {
  "kernelspec": {
   "display_name": "Python 3",
   "language": "python",
   "name": "python3"
  },
  "language_info": {
   "codemirror_mode": {
    "name": "ipython",
    "version": 3
   },
   "file_extension": ".py",
   "mimetype": "text/x-python",
   "name": "python",
   "nbconvert_exporter": "python",
   "pygments_lexer": "ipython3",
   "version": "3.5.5"
  }
 },
 "nbformat": 4,
 "nbformat_minor": 2
}

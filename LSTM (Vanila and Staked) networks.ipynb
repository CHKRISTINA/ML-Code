{
 "cells": [
  {
   "cell_type": "code",
   "execution_count": 1,
   "metadata": {},
   "outputs": [
    {
     "name": "stderr",
     "output_type": "stream",
     "text": [
      "Using TensorFlow backend.\n"
     ]
    }
   ],
   "source": [
    "import numpy as np\n",
    "import pandas as pd\n",
    "\n",
    "import warnings\n",
    "warnings.filterwarnings('ignore')\n",
    "\n",
    "from sklearn.model_selection import train_test_split\n",
    "\n",
    "from sklearn.preprocessing import MinMaxScaler\n",
    "from sklearn.metrics import r2_score\n",
    "\n",
    "from keras.models import Sequential\n",
    "from keras.layers import Dense #, Activation\n",
    "from keras.layers import LSTM"
   ]
  },
  {
   "cell_type": "markdown",
   "metadata": {},
   "source": [
    "## Vanila LSTM"
   ]
  },
  {
   "cell_type": "code",
   "execution_count": null,
   "metadata": {},
   "outputs": [],
   "source": [
    "# generate array of values\n",
    "\n",
    "df = pd.DataFrame()\n",
    "df['t'] = np.arange(50)\n",
    "# shift forward\n",
    "df['t+1'] = df['t'].shift(-1)\n",
    "#print(df)"
   ]
  },
  {
   "cell_type": "code",
   "execution_count": null,
   "metadata": {},
   "outputs": [],
   "source": [
    "x = df['t'].values[:-1]\n",
    "y = df['t+1'].values[:-1]"
   ]
  },
  {
   "cell_type": "code",
   "execution_count": null,
   "metadata": {},
   "outputs": [],
   "source": [
    "# Normalize data\n",
    "x = x.reshape((len(x), 1))\n",
    "y = y.reshape((len(y), 1))\n",
    "\n",
    "scaler = MinMaxScaler(feature_range=(0, 1))\n",
    "\n",
    "x = scaler.fit_transform(x)\n",
    "y = scaler.fit_transform(y)"
   ]
  },
  {
   "cell_type": "code",
   "execution_count": null,
   "metadata": {},
   "outputs": [],
   "source": [
    "#print('Train, test with normalizzation: ', x, y) "
   ]
  },
  {
   "cell_type": "code",
   "execution_count": null,
   "metadata": {},
   "outputs": [],
   "source": [
    "X_train, X_test, y_train, y_test = train_test_split(x, y, test_size=0.33)\n",
    "print('Shape of each element at the beginning: ', X_train.shape, X_test.shape, y_train.shape, y_test.shape)\n",
    "print('Number of element in X train: ', X_train.shape[0])"
   ]
  },
  {
   "cell_type": "code",
   "execution_count": null,
   "metadata": {},
   "outputs": [],
   "source": [
    "X_train = np.reshape(X_train, (X_train.shape[0], 1, 1))\n",
    "X_test = np.reshape(X_test, (X_test.shape[0], 1, 1))\n",
    "\n",
    "#print('X Train: ', X_train.shape, X_train) #(6,1,1)\n",
    "#print('X Test: ', X_test.shape, X_test) (3,1,1)\n",
    "\n",
    "#print('Y Train: ', y_train.shape, y_train) \n",
    "#print('Y Test: ', y_test.shape, y_test)"
   ]
  },
  {
   "cell_type": "code",
   "execution_count": null,
   "metadata": {},
   "outputs": [],
   "source": [
    "model1 = Sequential()\n",
    "model1.add(LSTM(10, input_shape=(1,1))) #timesteps, features\n",
    "model1.add(Dense(1))\n",
    "\n",
    "model1.compile(loss='mse',\n",
    "              optimizer='adam',\n",
    "              metrics=['accuracy'])\n",
    "\n",
    "hisoty = model1.fit(X_train, y_train, batch_size = 10, epochs = 50, verbose = 0)"
   ]
  },
  {
   "cell_type": "code",
   "execution_count": null,
   "metadata": {},
   "outputs": [],
   "source": [
    "scores = model1.evaluate(X_test, y_test, verbose=0)\n",
    "print(\"%s: %.2f%%\" % (model1.metrics_names[1], scores[1]*100))"
   ]
  },
  {
   "cell_type": "code",
   "execution_count": null,
   "metadata": {},
   "outputs": [],
   "source": [
    "prediction = model1.predict(X_test)\n",
    "#print(prediction)"
   ]
  },
  {
   "cell_type": "code",
   "execution_count": null,
   "metadata": {},
   "outputs": [],
   "source": [
    "real_value_prediction = scaler.inverse_transform(prediction)\n",
    "real_value = scaler.inverse_transform(y_test)"
   ]
  },
  {
   "cell_type": "markdown",
   "metadata": {},
   "source": [
    "## Echo Sequence Prediction Problem\n",
    "\n",
    " The task is that, given a sequence of random integers as input,\n",
    "to output the value of a random integer at a specific time input step that is not specified to the\n",
    "model.\n",
    "\n",
    "\n",
    "   1. generate a sequence of random numbers\n",
    "   2. one hot encoder/decoder\n",
    "   3. data preprocessing \n",
    "   4. define and comlpile the model\n",
    "   5. valuate the model\n"
   ]
  },
  {
   "cell_type": "code",
   "execution_count": null,
   "metadata": {},
   "outputs": [],
   "source": [
    "# generate random sequence\n",
    "def generate_random_seq(length, n_features):\n",
    "    seq = [np.random.randint(0,n_features-1) for x in range(length)]\n",
    "    return seq"
   ]
  },
  {
   "cell_type": "code",
   "execution_count": null,
   "metadata": {},
   "outputs": [],
   "source": [
    "# encode sequence\n",
    "def one_hot_encodding(seq, n_features):\n",
    "    second_step = []\n",
    "    for element in seq:\n",
    "        first_step = np.zeros(n_features)\n",
    "        first_step[element] = 1\n",
    "        second_step.append(first_step)\n",
    "    return np.array(second_step)"
   ]
  },
  {
   "cell_type": "code",
   "execution_count": null,
   "metadata": {},
   "outputs": [],
   "source": [
    "# decode sequence\n",
    "def one_hot_decodding(encoded_seq):\n",
    "    return [np.argmax(vector) for vector in encoded_seq]"
   ]
  },
  {
   "cell_type": "code",
   "execution_count": null,
   "metadata": {},
   "outputs": [],
   "source": [
    "# generate one example for an lstm\n",
    "def generate_example(length, n_features, out_index):\n",
    "    # generate sequence\n",
    "    sequence = generate_random_seq(length, n_features)\n",
    "    # print(sequence)\n",
    "    # one hot encode\n",
    "    encoded = one_hot_encodding(sequence, n_features)\n",
    "    # reshape sequence to be 3D\n",
    "    X = encoded.reshape((1, length, n_features))\n",
    "    # select output\n",
    "    y = encoded[out_index].reshape(1, n_features)\n",
    "    return X, y"
   ]
  },
  {
   "cell_type": "code",
   "execution_count": null,
   "metadata": {},
   "outputs": [],
   "source": [
    "LENGTH =25\n",
    "N_FEATURES = 100\n",
    "OUT_INDEX = 2"
   ]
  },
  {
   "cell_type": "code",
   "execution_count": null,
   "metadata": {},
   "outputs": [],
   "source": [
    "# generate the data\n",
    "X, y = generate_example(LENGTH, N_FEATURES, OUT_INDEX)\n",
    "print(X.shape)\n",
    "print(y.shape)"
   ]
  },
  {
   "cell_type": "code",
   "execution_count": null,
   "metadata": {},
   "outputs": [],
   "source": [
    "# create the model\n",
    "model = Sequential()\n",
    "model.add(LSTM(25, input_shape=(LENGTH, N_FEATURES)))\n",
    "model.add(Dense(N_FEATURES, activation='softmax'))\n",
    "model.compile(loss='categorical_crossentropy', optimizer='adam', metrics=['acc'])\n",
    "print(model.summary())"
   ]
  },
  {
   "cell_type": "code",
   "execution_count": null,
   "metadata": {},
   "outputs": [],
   "source": [
    "# fit model\n",
    "for i in range(100):\n",
    "    X, y = generate_example(LENGTH, N_FEATURES, OUT_INDEX)\n",
    "    model.fit(X, y, epochs=1, verbose=2)"
   ]
  },
  {
   "cell_type": "code",
   "execution_count": null,
   "metadata": {},
   "outputs": [],
   "source": [
    "# evaluate model–\n",
    "correct = 0\n",
    "for i in range(100):\n",
    "    X, y = generate_example(LENGTH, N_FEATURES, OUT_INDEX)\n",
    "    yhat = model.predict(X)\n",
    "    if one_hot_decodding(yhat) == one_hot_decodding(y):\n",
    "        correct += 1\n",
    "print('Accuracy:',((correct/100)*100.0))"
   ]
  },
  {
   "cell_type": "markdown",
   "metadata": {},
   "source": [
    "# Staked LSTM\n",
    "A Stacked LSTM architecture can be defined as an LSTM model comprised of multiple LSTM layers. An LSTM layer provides a sequence output rather than a single value output to the LSTM layer below."
   ]
  },
  {
   "cell_type": "code",
   "execution_count": 2,
   "metadata": {},
   "outputs": [
    {
     "name": "stdout",
     "output_type": "stream",
     "text": [
      "WARNING:tensorflow:From /Users/kkhvatov/anaconda3/lib/python3.5/site-packages/tensorflow/python/framework/op_def_library.py:263: colocate_with (from tensorflow.python.framework.ops) is deprecated and will be removed in a future version.\n",
      "Instructions for updating:\n",
      "Colocations handled automatically by placer.\n",
      "[[[0.02427796]\n",
      "  [0.06747833]\n",
      "  [0.12313416]]] (1, 3, 1)\n"
     ]
    }
   ],
   "source": [
    "# define model where LSTM oputput 3D array, applying return_sequnce=True\n",
    "model = Sequential()\n",
    "model.add(LSTM(1, return_sequences=True, input_shape=(3,1)))\n",
    "model.compile(optimizer='adam', loss='mse')\n",
    "# input time steps\n",
    "data = np.array([0.1, 0.2, 0.3]).reshape((1,3,1))\n",
    "# make and show prediction\n",
    "prediction = model.predict(data)\n",
    "print(prediction, prediction.shape)"
   ]
  },
  {
   "cell_type": "markdown",
   "metadata": {},
   "source": [
    "####  Time series forecasting using Staked LSTM\n",
    "\n",
    "Here Staked LSTM (many-to-one) is udsed to create prediction. More precisely, the model will not predict the output time steps piecewise; the whole prediction will be produced at once start from the time sequence data.\n",
    "\n",
    "To visualize the task and compile the model, the problem of arcsin(sin(x)) will be analize."
   ]
  },
  {
   "cell_type": "code",
   "execution_count": 12,
   "metadata": {},
   "outputs": [],
   "source": [
    "from math import sin\n",
    "from math import pi\n",
    "from math import exp\n",
    "from math import asin\n",
    "from random import random\n",
    "from random import randint\n",
    "from random import uniform\n",
    "from numpy import array\n",
    "import matplotlib.pyplot as plt\n",
    "from keras.models import Sequential\n",
    "from keras.layers import LSTM\n",
    "from keras.layers import Dense"
   ]
  },
  {
   "cell_type": "code",
   "execution_count": 13,
   "metadata": {},
   "outputs": [],
   "source": [
    "# generate sequence of data - improved model of arcsin(sin(x))\n",
    "def generate_sequence(length):\n",
    "    period = randint(0,10)/10\n",
    "    high = randint(1,10)\n",
    "    weight = randint(-10,10)\n",
    "    return [high * asin(sin(i*(pi/4*weight)))/(0.5 + i**period) for i in range(length)]"
   ]
  },
  {
   "cell_type": "code",
   "execution_count": 14,
   "metadata": {},
   "outputs": [],
   "source": [
    "# generate several sequence of examples:\n",
    "# length - length of train sequence\n",
    "# output - length of test sequence\n",
    "# n_examples - number of sequnce generated at once\n",
    "def generate_examples(length, output, n_examples):\n",
    "    X, y = list(), list()\n",
    "    for _ in range(n_examples):\n",
    "        sequence = generate_sequence(length + output)\n",
    "        X.append(sequence[:-output])\n",
    "        y.append(sequence[-output:])\n",
    "    X = array(X).reshape(n_examples, length, 1)\n",
    "    y = array(y).reshape(n_examples, output)\n",
    "    return X, y"
   ]
  },
  {
   "cell_type": "code",
   "execution_count": 56,
   "metadata": {},
   "outputs": [
    {
     "data": {
      "image/png": "[encoded data removed]",
      "text/plain": [
       "<Figure size 432x288 with 1 Axes>"
      ]
     },
     "metadata": {
      "needs_background": "light"
     },
     "output_type": "display_data"
    }
   ],
   "source": [
    "# initial values\n",
    "LENGTH = 45\n",
    "OUTPUT = 15\n",
    "N_EXAMPLES = 3\n",
    "\n",
    "# check the function\n",
    "X, y = generate_examples(LENGTH, OUTPUT, N_EXAMPLES)\n",
    "for i in range(len(X)):\n",
    "    plt.plot([x for x in X[i, :, 0]] + [x for x in y[i]],  '-o' )\n",
    "plt.show()"
   ]
  },
  {
   "cell_type": "code",
   "execution_count": 57,
   "metadata": {},
   "outputs": [
    {
     "name": "stdout",
     "output_type": "stream",
     "text": [
      "_________________________________________________________________\n",
      "Layer (type)                 Output Shape              Param #   \n",
      "=================================================================\n",
      "lstm_4 (LSTM)                (None, 45, 20)            1760      \n",
      "_________________________________________________________________\n",
      "lstm_5 (LSTM)                (None, 20)                3280      \n",
      "_________________________________________________________________\n",
      "dense_2 (Dense)              (None, 15)                315       \n",
      "=================================================================\n",
      "Total params: 5,355\n",
      "Trainable params: 5,355\n",
      "Non-trainable params: 0\n",
      "_________________________________________________________________\n",
      "None\n"
     ]
    }
   ],
   "source": [
    "# define model\n",
    "model = Sequential()\n",
    "model.add(LSTM(20, return_sequences=True, input_shape=(LENGTH, 1)))\n",
    "model.add(LSTM(20))\n",
    "model.add(Dense(OUTPUT))\n",
    "model.compile(loss='mae', optimizer='adam')\n",
    "print(model.summary())"
   ]
  },
  {
   "cell_type": "code",
   "execution_count": 58,
   "metadata": {},
   "outputs": [
    {
     "name": "stdout",
     "output_type": "stream",
     "text": [
      "Epoch 1/1\n",
      "10000/10000 [==============================] - 85s 8ms/step - loss: 0.5218\n"
     ]
    }
   ],
   "source": [
    "# fit model\n",
    "X, y = generate_examples(LENGTH, OUTPUT, 10000)\n",
    "history = model.fit(X, y, batch_size=10, epochs=1)"
   ]
  },
  {
   "cell_type": "code",
   "execution_count": 59,
   "metadata": {},
   "outputs": [
    {
     "name": "stdout",
     "output_type": "stream",
     "text": [
      "MAE:  0.3415452284812927\n"
     ]
    }
   ],
   "source": [
    "# evaluate model\n",
    "X, y = generate_examples(LENGTH, OUTPUT, 1000)\n",
    "loss = model.evaluate(X, y, verbose=0)\n",
    "print( 'MAE: ', loss)"
   ]
  },
  {
   "cell_type": "code",
   "execution_count": 60,
   "metadata": {},
   "outputs": [
    {
     "data": {
      "image/png": "[encoded data removed]",
      "text/plain": [
       "<Figure size 432x288 with 1 Axes>"
      ]
     },
     "metadata": {
      "needs_background": "light"
     },
     "output_type": "display_data"
    }
   ],
   "source": [
    "# prediction on new data\n",
    "X, y = generate_examples(LENGTH, OUTPUT, 1)\n",
    "yhat = model.predict(X, verbose=0)\n",
    "pyplot.plot(y[0], label='y' )\n",
    "pyplot.plot(yhat[0], label='yhat' )\n",
    "pyplot.legend()\n",
    "pyplot.show()"
   ]
  },
  {
   "cell_type": "code",
   "execution_count": 62,
   "metadata": {},
   "outputs": [],
   "source": [
    "y_true = y[0].reshape((OUTPUT,1))\n",
    "y_prediction = yhat[0].reshape((OUTPUT,1))"
   ]
  },
  {
   "cell_type": "code",
   "execution_count": 63,
   "metadata": {},
   "outputs": [],
   "source": [
    "y_true = np.concatenate((X[0], y_true), axis=0)\n",
    "y_prediction = np.concatenate((X[0], y_prediction), axis=0)"
   ]
  },
  {
   "cell_type": "code",
   "execution_count": 64,
   "metadata": {},
   "outputs": [
    {
     "data": {
      "image/png": "[encoded data removed]",
      "text/plain": [
       "<Figure size 432x288 with 1 Axes>"
      ]
     },
     "metadata": {
      "needs_background": "light"
     },
     "output_type": "display_data"
    }
   ],
   "source": [
    "# prediction on new data\n",
    "pyplot.plot(y_true, label='y' )\n",
    "pyplot.plot(y_prediction, label='yhat' )\n",
    "pyplot.legend()\n",
    "pyplot.show()"
   ]
  },
  {
   "cell_type": "code",
   "execution_count": null,
   "metadata": {},
   "outputs": [],
   "source": []
  }
 ],
 "metadata": {
  "kernelspec": {
   "display_name": "Python 3",
   "language": "python",
   "name": "python3"
  },
  "language_info": {
   "codemirror_mode": {
    "name": "ipython",
    "version": 3
   },
   "file_extension": ".py",
   "mimetype": "text/x-python",
   "name": "python",
   "nbconvert_exporter": "python",
   "pygments_lexer": "ipython3",
   "version": "3.5.5"
  }
 },
 "nbformat": 4,
 "nbformat_minor": 2
}

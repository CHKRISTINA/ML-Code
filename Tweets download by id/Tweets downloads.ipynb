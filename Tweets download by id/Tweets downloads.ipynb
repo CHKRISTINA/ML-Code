{
 "cells": [
  {
   "cell_type": "code",
   "execution_count": 1,
   "metadata": {},
   "outputs": [],
   "source": [
    "import csv\n",
    "import pandas as pd\n",
    "import numpy as np\n",
    "import twython\n",
    "from twython import Twython"
   ]
  },
  {
   "cell_type": "code",
   "execution_count": 2,
   "metadata": {},
   "outputs": [],
   "source": [
    "path2 = 'brexit.csv'"
   ]
  },
  {
   "cell_type": "code",
   "execution_count": 3,
   "metadata": {},
   "outputs": [],
   "source": [
    "tweets = []\n",
    "with open(path2) as tsvfile:\n",
    "    tsvreader = csv.reader(tsvfile, delimiter=\",\")\n",
    "    for line in tsvreader:\n",
    "        tweets.append(line)"
   ]
  },
  {
   "cell_type": "code",
   "execution_count": 4,
   "metadata": {},
   "outputs": [
    {
     "data": {
      "text/html": [
       "<div>\n",
       "<style scoped>\n",
       "    .dataframe tbody tr th:only-of-type {\n",
       "        vertical-align: middle;\n",
       "    }\n",
       "\n",
       "    .dataframe tbody tr th {\n",
       "        vertical-align: top;\n",
       "    }\n",
       "\n",
       "    .dataframe thead th {\n",
       "        text-align: right;\n",
       "    }\n",
       "</style>\n",
       "<table border=\"1\" class=\"dataframe\">\n",
       "  <thead>\n",
       "    <tr style=\"text-align: right;\">\n",
       "      <th></th>\n",
       "      <th>0</th>\n",
       "      <th>1</th>\n",
       "    </tr>\n",
       "  </thead>\n",
       "  <tbody>\n",
       "    <tr>\n",
       "      <th>0</th>\n",
       "      <td>730787809099956225</td>\n",
       "      <td>Neutral</td>\n",
       "    </tr>\n",
       "    <tr>\n",
       "      <th>1</th>\n",
       "      <td>730787803240484864</td>\n",
       "      <td>Negative</td>\n",
       "    </tr>\n",
       "    <tr>\n",
       "      <th>2</th>\n",
       "      <td>730787795183226880</td>\n",
       "      <td>Negative</td>\n",
       "    </tr>\n",
       "    <tr>\n",
       "      <th>3</th>\n",
       "      <td>730787787683794946</td>\n",
       "      <td>Positive</td>\n",
       "    </tr>\n",
       "    <tr>\n",
       "      <th>4</th>\n",
       "      <td>730787784236077056</td>\n",
       "      <td>Positive</td>\n",
       "    </tr>\n",
       "    <tr>\n",
       "      <th>5</th>\n",
       "      <td>730787782856179712</td>\n",
       "      <td>Negative</td>\n",
       "    </tr>\n",
       "    <tr>\n",
       "      <th>6</th>\n",
       "      <td>730787781333651456</td>\n",
       "      <td>Positive</td>\n",
       "    </tr>\n",
       "    <tr>\n",
       "      <th>7</th>\n",
       "      <td>730787780951953408</td>\n",
       "      <td>Positive</td>\n",
       "    </tr>\n",
       "    <tr>\n",
       "      <th>8</th>\n",
       "      <td>730787774777991172</td>\n",
       "      <td>Neutral</td>\n",
       "    </tr>\n",
       "    <tr>\n",
       "      <th>9</th>\n",
       "      <td>730787772424916992</td>\n",
       "      <td>Positive</td>\n",
       "    </tr>\n",
       "    <tr>\n",
       "      <th>10</th>\n",
       "      <td>730787762203295746</td>\n",
       "      <td>Negative</td>\n",
       "    </tr>\n",
       "    <tr>\n",
       "      <th>11</th>\n",
       "      <td>730787741865246724</td>\n",
       "      <td>Positive</td>\n",
       "    </tr>\n",
       "    <tr>\n",
       "      <th>12</th>\n",
       "      <td>730787730096017408</td>\n",
       "      <td>Neutral</td>\n",
       "    </tr>\n",
       "    <tr>\n",
       "      <th>13</th>\n",
       "      <td>730787723758407680</td>\n",
       "      <td>Positive</td>\n",
       "    </tr>\n",
       "    <tr>\n",
       "      <th>14</th>\n",
       "      <td>730787717878063104</td>\n",
       "      <td>Negative</td>\n",
       "    </tr>\n",
       "  </tbody>\n",
       "</table>\n",
       "</div>"
      ],
      "text/plain": [
       "                     0         1\n",
       "0   730787809099956225   Neutral\n",
       "1   730787803240484864  Negative\n",
       "2   730787795183226880  Negative\n",
       "3   730787787683794946  Positive\n",
       "4   730787784236077056  Positive\n",
       "5   730787782856179712  Negative\n",
       "6   730787781333651456  Positive\n",
       "7   730787780951953408  Positive\n",
       "8   730787774777991172   Neutral\n",
       "9   730787772424916992  Positive\n",
       "10  730787762203295746  Negative\n",
       "11  730787741865246724  Positive\n",
       "12  730787730096017408   Neutral\n",
       "13  730787723758407680  Positive\n",
       "14  730787717878063104  Negative"
      ]
     },
     "execution_count": 4,
     "metadata": {},
     "output_type": "execute_result"
    }
   ],
   "source": [
    "tweets = pd.DataFrame(tweets)\n",
    "tweets.head(15)"
   ]
  },
  {
   "cell_type": "code",
   "execution_count": 5,
   "metadata": {},
   "outputs": [
    {
     "data": {
      "text/plain": [
       "0    730787809099956225\n",
       "1    730787803240484864\n",
       "2    730787795183226880\n",
       "3    730787787683794946\n",
       "4    730787784236077056\n",
       "5    730787782856179712\n",
       "6    730787781333651456\n",
       "7    730787780951953408\n",
       "8    730787774777991172\n",
       "9    730787772424916992\n",
       "Name: 0, dtype: object"
      ]
     },
     "execution_count": 5,
     "metadata": {},
     "output_type": "execute_result"
    }
   ],
   "source": [
    "tweets[0][0:10]"
   ]
  },
  {
   "cell_type": "code",
   "execution_count": 40,
   "metadata": {},
   "outputs": [
    {
     "data": {
      "text/plain": [
       "3000    730803124785549312\n",
       "3001    730803122784899073\n",
       "3002    730803120603844608\n",
       "3003    730803114551459840\n",
       "3004    730803097954553856\n",
       "3005    730803080925720576\n",
       "3006    730803080850223104\n",
       "3007    730803076244877312\n",
       "3008    730803071081717761\n",
       "3009    730803067025784832\n",
       "Name: 0, dtype: object"
      ]
     },
     "execution_count": 40,
     "metadata": {},
     "output_type": "execute_result"
    }
   ],
   "source": [
    "brexit_tweets4 = tweets[0][3000:4000]\n",
    "len(brexit_tweets4)\n",
    "brexit_tweets4[0:10]"
   ]
  },
  {
   "cell_type": "code",
   "execution_count": 24,
   "metadata": {},
   "outputs": [],
   "source": [
    "# Download tweets from Twitter by ID number\n",
    "CONSUMER_KEY = \"16CNgfM124eTjyit2tsmA7RkW\"\n",
    "CONSUMER_SECRET = \"NTK9RZ7ZTHeBt6iciD6EgsgmoAM3xaoC7SdwDaFNcMyMrG7lNZ\"\n",
    "OAUTH_TOKEN = \"1117326140237066240-4uyf9WRk83KYMlJYQosX9Bar5Udst5\"\n",
    "OAUTH_TOKEN_SECRET = \"AXgii35RB9NP1dSi6hJsUtX2kz8ZaIRapU8JKLl3HIgZn\"\n",
    "twitter = Twython(\n",
    "    CONSUMER_KEY, CONSUMER_SECRET,\n",
    "    OAUTH_TOKEN, OAUTH_TOKEN_SECRET)"
   ]
  },
  {
   "cell_type": "code",
   "execution_count": 41,
   "metadata": {},
   "outputs": [
    {
     "name": "stdout",
     "output_type": "stream",
     "text": [
      "730803124785549312\n",
      "730803122784899073\n",
      "730803120603844608\n",
      "730803114551459840\n",
      "730803097954553856\n"
     ]
    }
   ],
   "source": [
    "for tweet_id in brexit_tweets4[0:5]:\n",
    "    print(tweet_id)"
   ]
  },
  {
   "cell_type": "code",
   "execution_count": 42,
   "metadata": {},
   "outputs": [],
   "source": [
    "text_tweets = []\n",
    "i = -1\n",
    "for tweet_id in brexit_tweets4:\n",
    "    i += 1\n",
    "    try:\n",
    "        tweet = twitter.show_status(id = tweet_id)\n",
    "        tweet_text = tweet['text']\n",
    "        text_tweets.append([tweet_text, tweet_id, tweets[1][i]])\n",
    "    except: \n",
    "        pass"
   ]
  },
  {
   "cell_type": "code",
   "execution_count": 48,
   "metadata": {},
   "outputs": [
    {
     "data": {
      "text/plain": [
       "[['RT @_TROTSKI_: I love Europe but EU is a joke. Why would I want to be governed by foreigners and unelected officials. #VoteLeave #Brexit',\n",
       "  '730804765999800321',\n",
       "  'Neutral'],\n",
       " ['Mark Carney: Brexit could cause technical recession.... https://t.co/Pyt2J746ar',\n",
       "  '730804757959430148',\n",
       "  'Neutral'],\n",
       " ['RT @ajcdeane: How many people working for the #EU do you think are paid more than the UK PM? 5? 10? No. 10,000. #brexitthemovie #Brexit',\n",
       "  '730804756113952768',\n",
       "  'Positive'],\n",
       " [\"FTSE 100 hits five-week low as Mark Carney warns Brexit vote would risk 'technical recession' https://t.co/o0ntGHUeJ4\",\n",
       "  '730804748887195649',\n",
       "  'Positive'],\n",
       " ['.@StrongerIn has raised almost three times as much money as its main rival https://t.co/Uxz6Zk6SG0 #Brexit #EUref https://t.co/2MCjqZw3Gd',\n",
       "  '730804748614574082',\n",
       "  'Positive'],\n",
       " ['How the ‘for’ and ‘against’ marketing matches up c/o @MarketingWeek https://t.co/YIRvSjiBxh',\n",
       "  '730804744986472449',\n",
       "  'Positive'],\n",
       " [\"On tonight's Sky News Radio podcast: #Brexit #VoteLeave #StrongerIn #efc #Martinez #BBC https://t.co/B2qBli90aN\",\n",
       "  '730804744298610688',\n",
       "  'Positive'],\n",
       " [\"RT @TheEconomist: If Britain leaves the EU, it will be hard for London to remain Europe's financial centre https://t.co/yptujpe4vR https://…\",\n",
       "  '730804742411014145',\n",
       "  'Negative'],\n",
       " ['RT @rafaelbehr: Artisanal bad judgement by Vote Leave, making Farage sound like the moderate, sober voice of Brexit https://t.co/a7GDw9MLIA',\n",
       "  '730804740502749184',\n",
       "  'Neutral'],\n",
       " [\"RT @BrexitTheMovie: It's been an incredible few months and BREXIT THE MOVIE is NOW OUT!\\n\\nONLINE HERE: https://t.co/u7RmxGqU4v https://t.co/…\",\n",
       "  '730804736660738052',\n",
       "  'Negative'],\n",
       " [\"#Brexit may spark #recession warns @BankOfEngland Carney https://t.co/19X94XFBab He's right &amp; even worse in long-run https://t.co/oaCQOsuwUk\",\n",
       "  '730804731086524416',\n",
       "  'Positive'],\n",
       " ['The EU, not NATO, has brought peace to our continent writes @MollyMEP in @theStaggers https://t.co/ZIIQkp0XtU #StrongerIn #Remain #EUref',\n",
       "  '730805168015589376',\n",
       "  'Neutral'],\n",
       " ['RT @obritom: @dr_teck Got it.  Thanks.  Yes spot on. We all need to keep banging the #Brexit drum.  I think that the message is slowly gett…',\n",
       "  '730805153125797888',\n",
       "  'Neutral'],\n",
       " ['RT @LibDemInternat: \"On the inside of Europe we are part of a global community. We are more prosperous &amp; more secure\" #INtogether #EUref ht…',\n",
       "  '730805150726639616',\n",
       "  'Neutral'],\n",
       " [\"RT @PA: Former home secretary Alan Johnson describes #EUref Leave campaigners as 'extremists' https://t.co/RRbYvC5sY8 https://t.co/JsS050BF…\",\n",
       "  '730805135782379520',\n",
       "  'Positive'],\n",
       " [\"RT @BBCRealityCheck: The auditors have signed off the EU's accounts every year since 2007. https://t.co/wwYz1KqH1C\\n#EUref https://t.co/wXvY…\",\n",
       "  '730805134805110784',\n",
       "  'Negative'],\n",
       " ['PA ANALYSIS: Brexit muddying the inflation waters https://t.co/phAMh7o8XD https://t.co/UfR6Uicsc7',\n",
       "  '730805126764486656',\n",
       "  'Neutral'],\n",
       " ['RT @ElectronicsNews: Brexit threatens engineering sector, says head of the IET: Exiting the EU would be a risk to the... https://t.co/zEGGx…',\n",
       "  '730805126311645184',\n",
       "  'Positive'],\n",
       " ['RT @BreitbartLondon: PICTURES: Farage Hailed A Hero On ‘Brexit The Movie’ Red Carpet https://t.co/Jizat1j1SE https://t.co/vZnbNlo5mK',\n",
       "  '730805125586026496',\n",
       "  'Negative'],\n",
       " ['RT @math_jones: .@SDoughtyMP #LabourHypUKIP Welsh First Minister: UKIP AM Gill to back Carwyn Jones https://t.co/AelG9eMr4V https://t.co/4o…',\n",
       "  '730805112885628928',\n",
       "  'Negative']]"
      ]
     },
     "execution_count": 48,
     "metadata": {},
     "output_type": "execute_result"
    }
   ],
   "source": [
    "text_tweets[60:80]"
   ]
  },
  {
   "cell_type": "code",
   "execution_count": 44,
   "metadata": {},
   "outputs": [],
   "source": [
    "text_tweets4 = pd.DataFrame(text_tweets)"
   ]
  },
  {
   "cell_type": "code",
   "execution_count": 45,
   "metadata": {},
   "outputs": [],
   "source": [
    "export_csv = text_tweets4.to_csv (r'brexit_dataframe4.csv', index = None, header=True) "
   ]
  },
  {
   "cell_type": "code",
   "execution_count": null,
   "metadata": {},
   "outputs": [],
   "source": []
  },
  {
   "cell_type": "code",
   "execution_count": null,
   "metadata": {},
   "outputs": [],
   "source": []
  }
 ],
 "metadata": {
  "kernelspec": {
   "display_name": "Python 3",
   "language": "python",
   "name": "python3"
  },
  "language_info": {
   "codemirror_mode": {
    "name": "ipython",
    "version": 3
   },
   "file_extension": ".py",
   "mimetype": "text/x-python",
   "name": "python",
   "nbconvert_exporter": "python",
   "pygments_lexer": "ipython3",
   "version": "3.5.5"
  }
 },
 "nbformat": 4,
 "nbformat_minor": 2
}

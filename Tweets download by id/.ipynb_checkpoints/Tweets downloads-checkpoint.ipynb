{
 "cells": [
  {
   "cell_type": "code",
   "execution_count": 2,
   "metadata": {},
   "outputs": [],
   "source": [
    "import csv\n",
    "import pandas as pd\n",
    "import numpy as np\n",
    "import twython\n",
    "from twython import Twython"
   ]
  },
  {
   "cell_type": "code",
   "execution_count": 3,
   "metadata": {},
   "outputs": [],
   "source": [
    "path2 = 'brexit.csv'"
   ]
  },
  {
   "cell_type": "code",
   "execution_count": 4,
   "metadata": {},
   "outputs": [],
   "source": [
    "tweets = []\n",
    "with open(path2) as tsvfile:\n",
    "    tsvreader = csv.reader(tsvfile, delimiter=\",\")\n",
    "    for line in tsvreader:\n",
    "        tweets.append(line)"
   ]
  },
  {
   "cell_type": "code",
   "execution_count": 14,
   "metadata": {},
   "outputs": [
    {
     "data": {
      "text/html": [
       "<div>\n",
       "<style scoped>\n",
       "    .dataframe tbody tr th:only-of-type {\n",
       "        vertical-align: middle;\n",
       "    }\n",
       "\n",
       "    .dataframe tbody tr th {\n",
       "        vertical-align: top;\n",
       "    }\n",
       "\n",
       "    .dataframe thead th {\n",
       "        text-align: right;\n",
       "    }\n",
       "</style>\n",
       "<table border=\"1\" class=\"dataframe\">\n",
       "  <thead>\n",
       "    <tr style=\"text-align: right;\">\n",
       "      <th></th>\n",
       "      <th>0</th>\n",
       "      <th>1</th>\n",
       "    </tr>\n",
       "  </thead>\n",
       "  <tbody>\n",
       "    <tr>\n",
       "      <th>0</th>\n",
       "      <td>730759428430008320</td>\n",
       "      <td>Positive</td>\n",
       "    </tr>\n",
       "    <tr>\n",
       "      <th>1</th>\n",
       "      <td>730759413938655232</td>\n",
       "      <td>Negative</td>\n",
       "    </tr>\n",
       "    <tr>\n",
       "      <th>2</th>\n",
       "      <td>730759400445644801</td>\n",
       "      <td>Positive</td>\n",
       "    </tr>\n",
       "    <tr>\n",
       "      <th>3</th>\n",
       "      <td>730759393965412352</td>\n",
       "      <td>Neutral</td>\n",
       "    </tr>\n",
       "    <tr>\n",
       "      <th>4</th>\n",
       "      <td>730759392925261824</td>\n",
       "      <td>Positive</td>\n",
       "    </tr>\n",
       "    <tr>\n",
       "      <th>5</th>\n",
       "      <td>730759383253192705</td>\n",
       "      <td>Neutral</td>\n",
       "    </tr>\n",
       "    <tr>\n",
       "      <th>6</th>\n",
       "      <td>730759377548918784</td>\n",
       "      <td>Negative</td>\n",
       "    </tr>\n",
       "    <tr>\n",
       "      <th>7</th>\n",
       "      <td>730759375174897664</td>\n",
       "      <td>Neutral</td>\n",
       "    </tr>\n",
       "    <tr>\n",
       "      <th>8</th>\n",
       "      <td>730759372603789313</td>\n",
       "      <td>Negative</td>\n",
       "    </tr>\n",
       "    <tr>\n",
       "      <th>9</th>\n",
       "      <td>730759366530478080</td>\n",
       "      <td>Neutral</td>\n",
       "    </tr>\n",
       "    <tr>\n",
       "      <th>10</th>\n",
       "      <td>730759365142167552</td>\n",
       "      <td>Neutral</td>\n",
       "    </tr>\n",
       "    <tr>\n",
       "      <th>11</th>\n",
       "      <td>730759363175034880</td>\n",
       "      <td>Neutral</td>\n",
       "    </tr>\n",
       "    <tr>\n",
       "      <th>12</th>\n",
       "      <td>730759346766876672</td>\n",
       "      <td>Positive</td>\n",
       "    </tr>\n",
       "    <tr>\n",
       "      <th>13</th>\n",
       "      <td>730759344879505409</td>\n",
       "      <td>Neutral</td>\n",
       "    </tr>\n",
       "    <tr>\n",
       "      <th>14</th>\n",
       "      <td>730759334796349440</td>\n",
       "      <td>Negative</td>\n",
       "    </tr>\n",
       "  </tbody>\n",
       "</table>\n",
       "</div>"
      ],
      "text/plain": [
       "                     0         1\n",
       "0   730759428430008320  Positive\n",
       "1   730759413938655232  Negative\n",
       "2   730759400445644801  Positive\n",
       "3   730759393965412352   Neutral\n",
       "4   730759392925261824  Positive\n",
       "5   730759383253192705   Neutral\n",
       "6   730759377548918784  Negative\n",
       "7   730759375174897664   Neutral\n",
       "8   730759372603789313  Negative\n",
       "9   730759366530478080   Neutral\n",
       "10  730759365142167552   Neutral\n",
       "11  730759363175034880   Neutral\n",
       "12  730759346766876672  Positive\n",
       "13  730759344879505409   Neutral\n",
       "14  730759334796349440  Negative"
      ]
     },
     "execution_count": 14,
     "metadata": {},
     "output_type": "execute_result"
    }
   ],
   "source": [
    "tweets = pd.DataFrame(tweets)\n",
    "tweets.head(15)"
   ]
  },
  {
   "cell_type": "code",
   "execution_count": 15,
   "metadata": {},
   "outputs": [
    {
     "data": {
      "text/plain": [
       "0    730759428430008320\n",
       "1    730759413938655232\n",
       "2    730759400445644801\n",
       "3    730759393965412352\n",
       "4    730759392925261824\n",
       "5    730759383253192705\n",
       "6    730759377548918784\n",
       "7    730759375174897664\n",
       "8    730759372603789313\n",
       "9    730759366530478080\n",
       "Name: 0, dtype: object"
      ]
     },
     "execution_count": 15,
     "metadata": {},
     "output_type": "execute_result"
    }
   ],
   "source": [
    "tweets[0][0:10]"
   ]
  },
  {
   "cell_type": "code",
   "execution_count": 5,
   "metadata": {},
   "outputs": [
    {
     "data": {
      "text/plain": [
       "0    730759428430008320\n",
       "1    730759413938655232\n",
       "2    730759400445644801\n",
       "3    730759393965412352\n",
       "4    730759392925261824\n",
       "5    730759383253192705\n",
       "6    730759377548918784\n",
       "7    730759375174897664\n",
       "8    730759372603789313\n",
       "9    730759366530478080\n",
       "Name: 0, dtype: object"
      ]
     },
     "execution_count": 5,
     "metadata": {},
     "output_type": "execute_result"
    }
   ],
   "source": [
    "brexit_tweets = tweets[0]\n",
    "brexit_tweets[0:10]"
   ]
  },
  {
   "cell_type": "code",
   "execution_count": 6,
   "metadata": {},
   "outputs": [],
   "source": [
    "# Download tweets from Twitter by ID number\n",
    "CONSUMER_KEY = \"16CNgfM124eTjyit2tsmA7RkW\"\n",
    "CONSUMER_SECRET = \"NTK9RZ7ZTHeBt6iciD6EgsgmoAM3xaoC7SdwDaFNcMyMrG7lNZ\"\n",
    "OAUTH_TOKEN = \"1117326140237066240-4uyf9WRk83KYMlJYQosX9Bar5Udst5\"\n",
    "OAUTH_TOKEN_SECRET = \"AXgii35RB9NP1dSi6hJsUtX2kz8ZaIRapU8JKLl3HIgZn\"\n",
    "twitter = Twython(\n",
    "    CONSUMER_KEY, CONSUMER_SECRET,\n",
    "    OAUTH_TOKEN, OAUTH_TOKEN_SECRET)"
   ]
  },
  {
   "cell_type": "code",
   "execution_count": 20,
   "metadata": {},
   "outputs": [],
   "source": [
    "text_tweets = []\n",
    "i = -1\n",
    "for tweet_id in tweets[0]:\n",
    "    i += 1\n",
    "    try:\n",
    "        tweet = twitter.show_status(id = tweet_id)\n",
    "        tweet_text = tweet['text']\n",
    "        text_tweets.append([tweet_text, tweet_id, tweets[1][i]])\n",
    "    except: \n",
    "        pass"
   ]
  },
  {
   "cell_type": "code",
   "execution_count": 13,
   "metadata": {},
   "outputs": [
    {
     "data": {
      "text/plain": [
       "[['RT @raymach1: @David_Cameron according to you everything in the World will suffer if we #LeaveEU , very desperate argument #callmedave',\n",
       "  '730759400445644801',\n",
       "  'Positive'],\n",
       " [\"N Ireland's £850m farm exports to Republic of Ireland at risk if UK leaves the EU: #Brexit https://t.co/57dBCeqeEl https://t.co/km1Ii8b8Qc\",\n",
       "  '730759383253192705',\n",
       "  'Neutral'],\n",
       " [\"RT @EU_Mainstream: Yet more evidence that #Brexit will have negative economic impact. Britain's economy is #StrongerIn  https://t.co/UWlnsa…\",\n",
       "  '730759377548918784',\n",
       "  'Negative'],\n",
       " ['The issue in Wales is now one of *perception*. Labour paint Plaid as working w. UKIP/Tories to gain power, Plaid protest this, but what now?',\n",
       "  '730759375174897664',\n",
       "  'Neutral'],\n",
       " [\"RT @nickeardleybbc: Two UKIP members of the Welsh Assembly now say they'll back Labour's choice for first minister https://t.co/otcUlAHRak\",\n",
       "  '730759372603789313',\n",
       "  'Negative'],\n",
       " ['r u 4 real @Vice? https://t.co/uFAtFHMn8D https://t.co/fjThdjpjU3',\n",
       "  '730759366530478080',\n",
       "  'Neutral'],\n",
       " ['Thing people are forgetting about the debate is that @Nigel_Farage will have facts on his side rather than spin. Cameron will lose. #UKIP',\n",
       "  '730759365142167552',\n",
       "  'Neutral'],\n",
       " ['RT @rshotton: Small wording changes make huge differences - for Brexit &amp; brands - research by @zenith https://t.co/VwMzgJRqA1 https://t.co/…',\n",
       "  '730759363175034880',\n",
       "  'Neutral'],\n",
       " ['RT @DianeJamesMEP: This is what the Unelected EU Elites who make decisions that affect your life, think of you! #BREXIT https://t.co/ufXtOi…',\n",
       "  '730759346766876672',\n",
       "  'Positive'],\n",
       " ['RT @dariomazzola: In/out UK has to deal with EU!  #Brexit means back of the queue! Expect 5-10yr #trade agreement delay per country!  https…',\n",
       "  '730759344879505409',\n",
       "  'Neutral'],\n",
       " [\"RT @LeftFootFwd: Boris Johnson's #Brexit Bus is peddling a lie - we don't 'send EU £350m a week'. https://t.co/5i5blcXREz #BorisBus https:/…\",\n",
       "  '730759334796349440',\n",
       "  'Negative'],\n",
       " ['RT @betteroutofEU: \"Brexit would boost Britain’s global influence\" #VoteLeave #LeaveEU #brexit #TakeControl https://t.co/fSKfJpTVuD',\n",
       "  '730759321068445696',\n",
       "  'Positive'],\n",
       " ['RT @sophgaston: The #Brexit Twittersphere: new @Demos blog maps networks beneath the campaign battleground https://t.co/U9dtkJp2IK https://…',\n",
       "  '730759317884915712',\n",
       "  'Neutral'],\n",
       " ['\"We believe it would be a mistake to put one of our most thriving and innovative sectors at risk.” https://t.co/EZqNXLvS6g #Brexit #tech',\n",
       "  '730759317075439617',\n",
       "  'Negative'],\n",
       " ['Come along and support the #VoteLeave stall at #Eastleigh market on Saturday 14th May 9am-12',\n",
       "  '730759310754611201',\n",
       "  'Positive'],\n",
       " ['RT @UKIP: Will you be watching? https://t.co/2iK88EZIcJ',\n",
       "  '730759308707811328',\n",
       "  'Neutral']]"
      ]
     },
     "execution_count": 13,
     "metadata": {},
     "output_type": "execute_result"
    }
   ],
   "source": [
    "text_tweets"
   ]
  },
  {
   "cell_type": "code",
   "execution_count": 21,
   "metadata": {},
   "outputs": [],
   "source": [
    "text_tweets = pd.DataFrame(text_tweets)"
   ]
  },
  {
   "cell_type": "code",
   "execution_count": 22,
   "metadata": {},
   "outputs": [
    {
     "data": {
      "text/html": [
       "<div>\n",
       "<style scoped>\n",
       "    .dataframe tbody tr th:only-of-type {\n",
       "        vertical-align: middle;\n",
       "    }\n",
       "\n",
       "    .dataframe tbody tr th {\n",
       "        vertical-align: top;\n",
       "    }\n",
       "\n",
       "    .dataframe thead th {\n",
       "        text-align: right;\n",
       "    }\n",
       "</style>\n",
       "<table border=\"1\" class=\"dataframe\">\n",
       "  <thead>\n",
       "    <tr style=\"text-align: right;\">\n",
       "      <th></th>\n",
       "      <th>0</th>\n",
       "      <th>1</th>\n",
       "      <th>2</th>\n",
       "    </tr>\n",
       "  </thead>\n",
       "  <tbody>\n",
       "    <tr>\n",
       "      <th>0</th>\n",
       "      <td>RT @raymach1: @David_Cameron according to you ...</td>\n",
       "      <td>730759400445644801</td>\n",
       "      <td>Positive</td>\n",
       "    </tr>\n",
       "    <tr>\n",
       "      <th>1</th>\n",
       "      <td>N Ireland's £850m farm exports to Republic of ...</td>\n",
       "      <td>730759383253192705</td>\n",
       "      <td>Neutral</td>\n",
       "    </tr>\n",
       "    <tr>\n",
       "      <th>2</th>\n",
       "      <td>RT @EU_Mainstream: Yet more evidence that #Bre...</td>\n",
       "      <td>730759377548918784</td>\n",
       "      <td>Negative</td>\n",
       "    </tr>\n",
       "    <tr>\n",
       "      <th>3</th>\n",
       "      <td>The issue in Wales is now one of *perception*....</td>\n",
       "      <td>730759375174897664</td>\n",
       "      <td>Neutral</td>\n",
       "    </tr>\n",
       "    <tr>\n",
       "      <th>4</th>\n",
       "      <td>RT @nickeardleybbc: Two UKIP members of the We...</td>\n",
       "      <td>730759372603789313</td>\n",
       "      <td>Negative</td>\n",
       "    </tr>\n",
       "  </tbody>\n",
       "</table>\n",
       "</div>"
      ],
      "text/plain": [
       "                                                   0                   1  \\\n",
       "0  RT @raymach1: @David_Cameron according to you ...  730759400445644801   \n",
       "1  N Ireland's £850m farm exports to Republic of ...  730759383253192705   \n",
       "2  RT @EU_Mainstream: Yet more evidence that #Bre...  730759377548918784   \n",
       "3  The issue in Wales is now one of *perception*....  730759375174897664   \n",
       "4  RT @nickeardleybbc: Two UKIP members of the We...  730759372603789313   \n",
       "\n",
       "          2  \n",
       "0  Positive  \n",
       "1   Neutral  \n",
       "2  Negative  \n",
       "3   Neutral  \n",
       "4  Negative  "
      ]
     },
     "execution_count": 22,
     "metadata": {},
     "output_type": "execute_result"
    }
   ],
   "source": [
    "text_tweets.head()"
   ]
  },
  {
   "cell_type": "code",
   "execution_count": 23,
   "metadata": {},
   "outputs": [],
   "source": [
    "export_csv = text_tweets.to_csv (r'brexit_dataframe.csv', index = None, header=True) "
   ]
  },
  {
   "cell_type": "code",
   "execution_count": null,
   "metadata": {},
   "outputs": [],
   "source": []
  }
 ],
 "metadata": {
  "kernelspec": {
   "display_name": "Python 3",
   "language": "python",
   "name": "python3"
  },
  "language_info": {
   "codemirror_mode": {
    "name": "ipython",
    "version": 3
   },
   "file_extension": ".py",
   "mimetype": "text/x-python",
   "name": "python",
   "nbconvert_exporter": "python",
   "pygments_lexer": "ipython3",
   "version": "3.5.5"
  }
 },
 "nbformat": 4,
 "nbformat_minor": 2
}
